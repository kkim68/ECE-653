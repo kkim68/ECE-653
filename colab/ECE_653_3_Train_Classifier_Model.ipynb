{
  "nbformat": 4,
  "nbformat_minor": 0,
  "metadata": {
    "colab": {
      "provenance": [],
      "collapsed_sections": [
        "C3151xSogxUt",
        "Y6qud5W1sbZL",
        "OgEHDlRARkDF",
        "sPATarELRqBf",
        "D6G_RGymLK1Z",
        "e0OVKdDyZ7e-",
        "IqIh1W_357IA",
        "Cn8LSr58y7mh",
        "Y9qGdUzEnY-z",
        "N24m6Mmui1U0",
        "rM_AM_1tKH_H"
      ],
      "gpuType": "T4"
    },
    "kernelspec": {
      "name": "python3",
      "display_name": "Python 3"
    },
    "language_info": {
      "name": "python"
    },
    "accelerator": "GPU"
  },
  "cells": [
    {
      "cell_type": "markdown",
      "source": [
        "## *** RESTORE FROM BACKUP**"
      ],
      "metadata": {
        "id": "C3151xSogxUt"
      }
    },
    {
      "cell_type": "code",
      "source": [
        "from google.colab import drive\n",
        "drive.mount('/content/drive')"
      ],
      "metadata": {
        "id": "OJdgXdpCU6GD"
      },
      "execution_count": null,
      "outputs": []
    },
    {
      "cell_type": "code",
      "source": [
        "!cp /content/drive/MyDrive/ECE-653/Dataset.zip . && unzip Dataset.zip && rm Dataset.zip"
      ],
      "metadata": {
        "id": "J4K_szLrkv6U"
      },
      "execution_count": null,
      "outputs": []
    },
    {
      "cell_type": "markdown",
      "source": [
        "## **Set locale to UTF-8**"
      ],
      "metadata": {
        "id": "OgEHDlRARkDF"
      }
    },
    {
      "cell_type": "code",
      "source": [
        "import locale\n",
        "def getpreferredencoding(do_setlocale = True):\n",
        "    return \"UTF-8\"\n",
        "locale.getpreferredencoding = getpreferredencoding"
      ],
      "metadata": {
        "id": "ZGdRxtxlsa_q"
      },
      "execution_count": null,
      "outputs": []
    },
    {
      "cell_type": "markdown",
      "source": [
        "## **Import Packages**"
      ],
      "metadata": {
        "id": "sPATarELRqBf"
      }
    },
    {
      "cell_type": "code",
      "source": [
        "import cv2\n",
        "import numpy as np\n",
        "import pandas as pd\n",
        "import matplotlib.pyplot as plt\n",
        "import torch\n",
        "import torch.nn as nn\n",
        "import torch.nn.functional as F\n",
        "import torch.optim as optim\n",
        "\n",
        "from torch.autograd import grad\n",
        "from torch.utils.data import Dataset, DataLoader\n",
        "from torchvision import transforms\n",
        "\n",
        "from PIL import Image\n",
        "from IPython.display import display\n",
        "from google.colab.patches import cv2_imshow\n",
        "from tqdm import tqdm\n",
        "from google.colab import drive\n",
        "\n",
        "import os\n",
        "import time\n",
        "import random"
      ],
      "metadata": {
        "id": "oxNFtUzq5Ijn"
      },
      "execution_count": null,
      "outputs": []
    },
    {
      "cell_type": "markdown",
      "source": [
        "## **Set to use CUDA**"
      ],
      "metadata": {
        "id": "D6G_RGymLK1Z"
      }
    },
    {
      "cell_type": "code",
      "source": [
        "# Set device\n",
        "device = torch.device(\"cuda\" if torch.cuda.is_available() else \"cpu\")\n",
        "print(f\"Using device: {device}\")"
      ],
      "metadata": {
        "id": "Sw0vb9ceLJFZ"
      },
      "execution_count": null,
      "outputs": []
    },
    {
      "cell_type": "markdown",
      "source": [
        "## **Class mapping**"
      ],
      "metadata": {
        "id": "e0OVKdDyZ7e-"
      }
    },
    {
      "cell_type": "code",
      "source": [
        "\n",
        "class_to_idx = {\n",
        "  'Speed Limit 10': 0,\n",
        "  'Speed Limit 20': 1,\n",
        "  'Speed Limit 30': 2,\n",
        "  'Speed Limit 40': 3,\n",
        "  'Speed Limit 50': 4,\n",
        "  'Speed Limit 60': 5,\n",
        "  'Speed Limit 70': 6,\n",
        "  'Speed Limit 80': 7,\n",
        "  'Speed Limit 90': 8,\n",
        "  'Speed Limit 100': 9,\n",
        "  'Speed Limit 110': 10,\n",
        "  'Speed Limit 120': 11,\n",
        "  'Stop': 12\n",
        "}\n",
        "\n",
        "class_names = {\n",
        "    0: 'Speed Limit 10',\n",
        "    1: 'Speed Limit 20',\n",
        "    2: 'Speed Limit 30',\n",
        "    3: 'Speed Limit 40',\n",
        "    4: 'Speed Limit 50',\n",
        "    5: 'Speed Limit 60',\n",
        "    6: 'Speed Limit 70',\n",
        "    7: 'Speed Limit 80',\n",
        "    8: 'Speed Limit 90',\n",
        "    9: 'Speed Limit 100',\n",
        "    10: 'Speed Limit 110',\n",
        "    11: 'Speed Limit 120',\n",
        "    12: 'Stop'\n",
        "}"
      ],
      "metadata": {
        "id": "zy7-9UCBZ26b"
      },
      "execution_count": null,
      "outputs": []
    },
    {
      "cell_type": "markdown",
      "source": [
        "## **SET PARPAMS**"
      ],
      "metadata": {
        "id": "IqIh1W_357IA"
      }
    },
    {
      "cell_type": "code",
      "source": [
        "IMAGE_SIZE = 64\n",
        "BATCH_SIZE = 100\n",
        "NUM_EPOCHS = 15\n",
        "NUM_CLASSES = 13\n",
        "\n",
        "# IMAGE_SIZE = 32\n",
        "# BATCH_SIZE = 32\n",
        "# NUM_EPOCHS = 20\n",
        "# NUM_CLASSES = 13"
      ],
      "metadata": {
        "id": "-x18aKHq55xj"
      },
      "execution_count": null,
      "outputs": []
    },
    {
      "cell_type": "markdown",
      "source": [
        "## **Implement Normalization(Transform)**"
      ],
      "metadata": {
        "id": "Cn8LSr58y7mh"
      }
    },
    {
      "cell_type": "code",
      "source": [
        "# Transform for input preprocessing\n",
        "\n",
        "def get_transform(is_training=True):\n",
        "    base_transform = [\n",
        "        transforms.Resize((IMAGE_SIZE, IMAGE_SIZE)),  # Bilinear interpolation\n",
        "        transforms.ToTensor()\n",
        "    ]\n",
        "\n",
        "    if is_training:\n",
        "        # Add augmentations for training only\n",
        "        train_transform = [\n",
        "            # Tilt/Rotation: randomly rotate image within a range\n",
        "            transforms.RandomRotation(degrees=15),\n",
        "\n",
        "            # Blur: apply Gaussian blur with random kernel size\n",
        "            transforms.RandomApply([\n",
        "                transforms.GaussianBlur(kernel_size=3, sigma=(0.1, 2.0))\n",
        "            ], p=0.3),\n",
        "\n",
        "            # Illumination changes: brightness, contrast, saturation, hue\n",
        "            transforms.ColorJitter(brightness=0.3, contrast=0.3, saturation=0.3, hue=0.1),\n",
        "\n",
        "            # You can add more augmentations here\n",
        "            transforms.RandomApply([transforms.RandomAffine(degrees=0, translate=(0.1, 0.1))], p=0.3),  # Translation\n",
        "        ]\n",
        "        # Insert augmentations before the base transforms\n",
        "        transform = transforms.Compose(train_transform + base_transform)\n",
        "    else:\n",
        "        # No augmentation for validation/testing\n",
        "        transform = transforms.Compose(base_transform)\n",
        "\n",
        "    return transform"
      ],
      "metadata": {
        "id": "S5-GA_Lvy4ch"
      },
      "execution_count": null,
      "outputs": []
    },
    {
      "cell_type": "markdown",
      "source": [
        "## **Define Loader**"
      ],
      "metadata": {
        "id": "Y9qGdUzEnY-z"
      }
    },
    {
      "cell_type": "code",
      "source": [
        "# Custom Dataset for Traffic Signs with reduced image size\n",
        "class TrafficSignDataset(Dataset):\n",
        "    def __init__(self, data_type, root_dir, transform=None, target_size=(IMAGE_SIZE, IMAGE_SIZE)):\n",
        "        \"\"\"\n",
        "        Args:\n",
        "            root_dir (string): Directory with all the images.\n",
        "            transform (callable, optional): Optional transform to be applied on a sample.\n",
        "            target_size (tuple): Target size for images (defaults to IMAGE_SIZE x IMAGE_SIZE)\n",
        "        \"\"\"\n",
        "        self.data_type = data_type\n",
        "        self.root_dir = root_dir\n",
        "        self.transform = transform\n",
        "        self.target_size = target_size\n",
        "\n",
        "        # Find all image files and their labels\n",
        "        self.samples = []\n",
        "\n",
        "        data_path = \"/content/Dataset\"\n",
        "        with open(os.path.join(data_path, self.data_type, '_annotations.csv'), 'r') as fh:\n",
        "          lines = fh.readlines()\n",
        "          for line in lines:\n",
        "            if line.strip() != '' and not line.startswith('filename'):\n",
        "              splitted = line.split(',')\n",
        "              filename = splitted[0]\n",
        "              label = splitted[3]\n",
        "              self.samples.append((\n",
        "                  os.path.join(self.root_dir, filename),\n",
        "                  class_to_idx[label]\n",
        "              ))\n",
        "\n",
        "    def __len__(self):\n",
        "        return len(self.samples)\n",
        "\n",
        "    def __getitem__(self, idx):\n",
        "        img_path, label = self.samples[idx]\n",
        "\n",
        "        # Load image\n",
        "        image = Image.open(img_path).convert('RGB')\n",
        "        image = image.resize(self.target_size, Image.BILINEAR)\n",
        "\n",
        "        # Apply transformations\n",
        "        if self.transform:\n",
        "            image = self.transform(image)\n",
        "\n",
        "        return image, label\n"
      ],
      "metadata": {
        "id": "yaq-dknxnbD9"
      },
      "execution_count": null,
      "outputs": []
    },
    {
      "cell_type": "markdown",
      "source": [
        "## **Define our classifier model**"
      ],
      "metadata": {
        "id": "N24m6Mmui1U0"
      }
    },
    {
      "cell_type": "code",
      "source": [
        "class SimpleTrafficSignNet(nn.Module):\n",
        "    def __init__(self, num_classes=13):\n",
        "        super(SimpleTrafficSignNet, self).__init__()\n",
        "\n",
        "        # Layer definitions\n",
        "        self.conv1 = nn.Conv2d(3, IMAGE_SIZE, kernel_size=5, padding=2)  # 32x32x32\n",
        "        self.dropout1 = nn.Dropout(0.1)\n",
        "        self.pool = nn.MaxPool2d(kernel_size=2, stride=2)\n",
        "\n",
        "        self.conv2 = nn.Conv2d(IMAGE_SIZE, IMAGE_SIZE*2, kernel_size=5, padding=2)\n",
        "        self.dropout2 = nn.Dropout(0.2)\n",
        "\n",
        "        self.conv3 = nn.Conv2d(IMAGE_SIZE*2, IMAGE_SIZE*4, kernel_size=5, padding=2)\n",
        "        self.dropout3 = nn.Dropout(0.3)\n",
        "\n",
        "        # This is the key part - we need separate pooling layers with specific sizes\n",
        "        # to match the Keras model architecture exactly\n",
        "        self.pool4 = nn.MaxPool2d(kernel_size=8, stride=8)  # For path1: 32x32x32 -> 4x4x32 = 512\n",
        "        self.pool5 = nn.MaxPool2d(kernel_size=2, stride=2)  # For path2: 8x8x64 -> 4x4x64 = 1024\n",
        "\n",
        "        self.dropout4 = nn.Dropout(0.5)\n",
        "\n",
        "        # Total concatenated features: 512 + 1024 + 2048 = 3584\n",
        "        #self.fc1 = nn.Linear(3584, 1024)\n",
        "        self.fc1 = nn.Linear(28672, 1024)\n",
        "        self.fc2 = nn.Linear(1024, num_classes)\n",
        "\n",
        "    def forward(self, x):\n",
        "        # Conv1 path\n",
        "        x1 = self.conv1(x)                # 32x32x32\n",
        "        x1 = F.relu(x1)\n",
        "        x1 = self.dropout1(x1)\n",
        "        x1_pooled = self.pool(x1)         # 16x16x32\n",
        "\n",
        "        # Conv2 path\n",
        "        x2 = self.conv2(x1_pooled)        # 16x16x64\n",
        "        x2 = F.relu(x2)\n",
        "        x2 = self.dropout2(x2)\n",
        "        x2_pooled = self.pool(x2)         # 8x8x64\n",
        "\n",
        "        # Conv3 path\n",
        "        x3 = self.conv3(x2_pooled)        # 8x8x128\n",
        "        x3 = F.relu(x3)\n",
        "        x3 = self.dropout3(x3)\n",
        "        x3_pooled = self.pool(x3)         # 4x4x128 = 2048 flattened\n",
        "\n",
        "        # Multiscale pooling paths (matching Keras exactly)\n",
        "        # Path 1: pool4 directly on conv1 output (after dropout)\n",
        "        path1 = self.pool4(x1)            # 4x4x32 = 512 flattened\n",
        "\n",
        "        # Path 2: pool5 on the output of pool2\n",
        "        path2 = self.pool5(x2_pooled)     # 4x4x64 = 1024 flattened\n",
        "\n",
        "        # Path 3: already at the right size from pool3\n",
        "        path3 = x3_pooled                 # 4x4x128 = 2048 flattened\n",
        "\n",
        "        # Flatten and concatenate\n",
        "        flat1 = torch.flatten(path1, 1)   # 512\n",
        "        flat2 = torch.flatten(path2, 1)   # 1024\n",
        "        flat3 = torch.flatten(path3, 1)   # 2048\n",
        "\n",
        "        merged = torch.cat([flat1, flat2, flat3], dim=1)  # 3584\n",
        "\n",
        "        # Dense layers\n",
        "        dense1 = self.fc1(merged)         # 1024\n",
        "        dense1 = F.relu(dense1)\n",
        "        dense1 = self.dropout4(dense1)\n",
        "\n",
        "        # Output layer (logits, no activation)\n",
        "        output = self.fc2(dense1)         # num_classes\n",
        "\n",
        "        return output"
      ],
      "metadata": {
        "id": "pyy8NB3Ki3nH"
      },
      "execution_count": null,
      "outputs": []
    },
    {
      "cell_type": "markdown",
      "source": [
        "## **(Training) Start training our model!**"
      ],
      "metadata": {
        "id": "rM_AM_1tKH_H"
      }
    },
    {
      "cell_type": "code",
      "source": [
        "# Visualization functions\n",
        "def plot_training_curves(train_losses, val_losses, train_accs, val_accs):\n",
        "    fig, (ax1, ax2) = plt.subplots(1, 2, figsize=(12, 5))\n",
        "\n",
        "    ax1.plot(train_losses, label='Training Loss')\n",
        "    ax1.plot(val_losses, label='Validation Loss')\n",
        "    ax1.set_title('Loss Curves')\n",
        "    ax1.set_xlabel('Epoch')\n",
        "    ax1.set_ylabel('Loss')\n",
        "    ax1.legend()\n",
        "\n",
        "    ax2.plot(train_accs, label='Training Accuracy')\n",
        "    ax2.plot(val_accs, label='Validation Accuracy')\n",
        "    ax2.set_title('Accuracy Curves')\n",
        "    ax2.set_xlabel('Epoch')\n",
        "    ax2.set_ylabel('Accuracy')\n",
        "    ax2.legend()\n",
        "\n",
        "    plt.tight_layout()\n",
        "    plt.savefig('training_curves.png')\n",
        "    plt.show()\n",
        "\n",
        "\n",
        "# Evaluate model\n",
        "def evaluate_model(model, test_loader):\n",
        "    model.eval()\n",
        "    all_preds = []\n",
        "    all_labels = []\n",
        "\n",
        "    print(\"Evaluating model on test data...\")\n",
        "    correct_by_class = {}\n",
        "    total_by_class = {}\n",
        "\n",
        "    with torch.no_grad():\n",
        "        pbar = tqdm(test_loader, desc=\"Testing\")\n",
        "        for inputs, labels in pbar:\n",
        "            inputs = inputs.to(device)\n",
        "            labels = labels.to(device)\n",
        "\n",
        "            outputs = model(inputs)\n",
        "            _, preds = torch.max(outputs, 1)\n",
        "\n",
        "            # Track per-class accuracy\n",
        "            for pred, label in zip(preds, labels):\n",
        "                label_item = label.item()\n",
        "                if label_item not in total_by_class:\n",
        "                    total_by_class[label_item] = 0\n",
        "                    correct_by_class[label_item] = 0\n",
        "\n",
        "                total_by_class[label_item] += 1\n",
        "                if pred == label:\n",
        "                    correct_by_class[label_item] += 1\n",
        "\n",
        "            all_preds.extend(preds.cpu().numpy())\n",
        "            all_labels.extend(labels.cpu().numpy())\n",
        "\n",
        "            # Update progress bar with current accuracy\n",
        "            batch_acc = torch.sum(preds == labels).double() / len(labels)\n",
        "            pbar.set_postfix(acc=f'{batch_acc:.4f}')\n",
        "\n",
        "    # Overall accuracy\n",
        "    accuracy = np.mean(np.array(all_preds) == np.array(all_labels))\n",
        "    print(f'Test Accuracy: {accuracy:.4f}')\n",
        "\n",
        "    # Per-class accuracy\n",
        "    print(\"\\nPer-class accuracy:\")\n",
        "    print(\"-\" * 30)\n",
        "    print(f\"{'Class':^10} | {'Accuracy':^10} | {'Samples':^10}\")\n",
        "    print(\"-\" * 30)\n",
        "\n",
        "    for class_idx in sorted(total_by_class.keys()):\n",
        "        class_acc = correct_by_class[class_idx] / total_by_class[class_idx]\n",
        "        print(f\"{class_idx:^10} | {class_acc:.4f} | {total_by_class[class_idx]:^10}\")\n",
        "\n",
        "    return all_preds, all_labels\n",
        "\n",
        "\n",
        "# training function\n",
        "def train_model(model, train_loader, val_loader, criterion, optimizer, num_epochs=25, scheduler=None):\n",
        "    best_acc = 0.0\n",
        "    train_losses = []\n",
        "    val_losses = []\n",
        "    train_accs = []\n",
        "    val_accs = []\n",
        "\n",
        "    # Print model information at the start\n",
        "    print(f'Model Architecture:')\n",
        "    print(model)\n",
        "    print(f'Total parameters: {sum(p.numel() for p in model.parameters())}')\n",
        "    print(f'Trainable parameters: {sum(p.numel() for p in model.parameters() if p.requires_grad)}')\n",
        "    print('-' * 50)\n",
        "\n",
        "    for epoch in range(num_epochs):\n",
        "        print(f'Epoch {epoch+1}/{num_epochs}')\n",
        "        print('-' * 30)\n",
        "\n",
        "        # Training phase\n",
        "        model.train()\n",
        "        running_loss = 0.0\n",
        "        running_corrects = 0\n",
        "        batch_count = 0\n",
        "\n",
        "        # Add progress bar for training\n",
        "        pbar = tqdm(train_loader, desc=f'Epoch {epoch+1}/{num_epochs} [Train]')\n",
        "        for batch_idx, (inputs, labels) in enumerate(pbar):\n",
        "            inputs = inputs.to(device)\n",
        "            labels = labels.to(device)\n",
        "\n",
        "            # Zero the parameter gradients\n",
        "            optimizer.zero_grad()\n",
        "\n",
        "            # Forward pass\n",
        "            outputs = model(inputs)\n",
        "            _, preds = torch.max(outputs, 1)\n",
        "            loss = criterion(outputs, labels)\n",
        "\n",
        "            # Backward pass and optimize\n",
        "            loss.backward()\n",
        "            optimizer.step()\n",
        "\n",
        "            # Calculate batch accuracy\n",
        "            batch_acc = torch.sum(preds == labels.data).double() / inputs.size(0)\n",
        "\n",
        "            # Statistics\n",
        "            running_loss += loss.item() * inputs.size(0)\n",
        "            running_corrects += torch.sum(preds == labels.data)\n",
        "            batch_count += 1\n",
        "\n",
        "            # Update progress bar\n",
        "            pbar.set_postfix(loss=f'{loss.item():.4f}', acc=f'{batch_acc:.4f}')\n",
        "\n",
        "            # Print detailed batch statistics every 10 batches\n",
        "            if batch_idx % 10 == 0:\n",
        "                print(f'  Batch {batch_idx}/{len(train_loader)}: '\n",
        "                      f'Loss: {loss.item():.4f}, Acc: {batch_acc:.4f}')\n",
        "\n",
        "        epoch_loss = running_loss / len(train_loader.dataset)\n",
        "        epoch_acc = running_corrects.double() / len(train_loader.dataset)\n",
        "\n",
        "        train_losses.append(epoch_loss)\n",
        "        train_accs.append(epoch_acc.item())\n",
        "\n",
        "        print(f'Train Loss: {epoch_loss:.4f} Acc: {epoch_acc:.4f}')\n",
        "\n",
        "        # Validation phase\n",
        "        model.eval()\n",
        "        running_loss = 0.0\n",
        "        running_corrects = 0\n",
        "\n",
        "        # Add progress bar for validation\n",
        "        with torch.no_grad():\n",
        "            pbar = tqdm(val_loader, desc=f'Epoch {epoch+1}/{num_epochs} [Val]')\n",
        "            for batch_idx, (inputs, labels) in enumerate(pbar):\n",
        "                inputs = inputs.to(device)\n",
        "                labels = labels.to(device)\n",
        "\n",
        "                # Forward pass\n",
        "                outputs = model(inputs)\n",
        "                _, preds = torch.max(outputs, 1)\n",
        "                loss = criterion(outputs, labels)\n",
        "\n",
        "                # Calculate batch accuracy\n",
        "                batch_acc = torch.sum(preds == labels.data).double() / inputs.size(0)\n",
        "\n",
        "                # Statistics\n",
        "                running_loss += loss.item() * inputs.size(0)\n",
        "                running_corrects += torch.sum(preds == labels.data)\n",
        "\n",
        "                # Update progress bar\n",
        "                pbar.set_postfix(loss=f'{loss.item():.4f}', acc=f'{batch_acc:.4f}')\n",
        "\n",
        "        epoch_loss = running_loss / len(val_loader.dataset)\n",
        "        epoch_acc = running_corrects.double() / len(val_loader.dataset)\n",
        "\n",
        "        val_losses.append(epoch_loss)\n",
        "        val_accs.append(epoch_acc.item())\n",
        "\n",
        "        print(f'Val Loss: {epoch_loss:.4f} Acc: {epoch_acc:.4f}')\n",
        "\n",
        "        # Update learning rate if using ReduceLROnPlateau scheduler\n",
        "        if scheduler and isinstance(scheduler, optim.lr_scheduler.ReduceLROnPlateau):\n",
        "            scheduler.step(epoch_acc)\n",
        "        elif scheduler:\n",
        "            current_lr = scheduler.get_last_lr()[0]\n",
        "            scheduler.step()\n",
        "            print(f'Learning rate: {current_lr:.6f}')\n",
        "\n",
        "        # Save the best model\n",
        "        if epoch_acc > best_acc:\n",
        "            best_acc = epoch_acc\n",
        "            torch.save(model.state_dict(), 'best_traffic_sign_model.pth')\n",
        "            print(f'New best model saved! Validation accuracy: {epoch_acc:.4f}')\n",
        "\n",
        "    print(f'Best val Acc: {best_acc:.4f}')\n",
        "\n",
        "    # Load best model weights\n",
        "    model.load_state_dict(torch.load('best_traffic_sign_model.pth'))\n",
        "\n",
        "    return model, train_losses, val_losses, train_accs, val_accs\n",
        "\n",
        "# Run the full training pipeline\n",
        "def start_train():\n",
        "    # Parameters\n",
        "    batch_size = BATCH_SIZE\n",
        "    num_epochs = NUM_EPOCHS\n",
        "    num_classes = NUM_CLASSES\n",
        "    learning_rate = 0.0001\n",
        "\n",
        "    print(f\"Training Configuration:\")\n",
        "    print(f\"----------------------\")\n",
        "    print(f\"Image Size: {IMAGE_SIZE}x{IMAGE_SIZE}\")\n",
        "    print(f\"Batch Size: {batch_size}\")\n",
        "    print(f\"Epochs: {num_epochs}\")\n",
        "    print(f\"Classes: {num_classes}\")\n",
        "    print(f\"Learning Rate: {learning_rate}\")\n",
        "    print(f\"Device: {device}\")\n",
        "    print(f\"----------------------\")\n",
        "\n",
        "    # Data directories\n",
        "    data_root = '/content/Dataset'\n",
        "\n",
        "    # Get transforms\n",
        "    train_transform = val_transform = get_transform()\n",
        "\n",
        "    # Create datasets\n",
        "    train_dataset = TrafficSignDataset(\n",
        "        'train',\n",
        "        root_dir=os.path.join(data_root, 'train'),\n",
        "        transform=train_transform\n",
        "    )\n",
        "\n",
        "    val_dataset = TrafficSignDataset(\n",
        "        'valid',\n",
        "        root_dir=os.path.join(data_root, 'valid'),\n",
        "        transform=val_transform\n",
        "    )\n",
        "\n",
        "    test_dataset = TrafficSignDataset(\n",
        "        'test',\n",
        "        root_dir=os.path.join(data_root, 'test'),\n",
        "        transform=val_transform\n",
        "    )\n",
        "\n",
        "    print(f\"\\nDataset Information:\")\n",
        "    print(f\"-------------------\")\n",
        "    print(f\"Training samples: {len(train_dataset)}\")\n",
        "    print(f\"Validation samples: {len(val_dataset)}\")\n",
        "    print(f\"Testing samples: {len(test_dataset)}\")\n",
        "    print(f\"Class mapping: {class_to_idx}\")\n",
        "    print(f\"-------------------\")\n",
        "\n",
        "    # Create data loaders\n",
        "    train_loader = DataLoader(train_dataset, batch_size=batch_size, shuffle=True, num_workers=4)\n",
        "    val_loader = DataLoader(val_dataset, batch_size=batch_size, shuffle=False, num_workers=4)\n",
        "    test_loader = DataLoader(test_dataset, batch_size=batch_size, shuffle=False, num_workers=4)\n",
        "\n",
        "    # Initialize model - choose one of the following:\n",
        "\n",
        "    model = SimpleTrafficSignNet(num_classes=num_classes)\n",
        "    model = model.to(device)\n",
        "\n",
        "    # Loss function and optimizer with weight decay\n",
        "    LR = 0.0001                                     # Learning rate\n",
        "    L2_LAMBDA = 0.0001                              # Lambda for l2 regularization\n",
        "    criterion = nn.CrossEntropyLoss()\n",
        "    optimizer = torch.optim.Adam(model.parameters(), lr=LR, weight_decay=L2_LAMBDA)\n",
        "\n",
        "    # Learning rate scheduler - use ReduceLROnPlateau for adaptive adjustment\n",
        "    scheduler = optim.lr_scheduler.ReduceLROnPlateau(\n",
        "        optimizer, mode='max', factor=0.5, patience=3, verbose=True\n",
        "    )\n",
        "\n",
        "    # Train model\n",
        "    print(\"\\nStarting training...\")\n",
        "    print(\"=\" * 50)\n",
        "    start_time = time.time()\n",
        "\n",
        "    model, train_losses, val_losses, train_accs, val_accs = train_model(\n",
        "        model, train_loader, val_loader, criterion, optimizer,\n",
        "        num_epochs=num_epochs, scheduler=scheduler\n",
        "    )\n",
        "\n",
        "    training_time = time.time() - start_time\n",
        "    print(f\"Training completed in {training_time:.2f} seconds ({training_time/60:.2f} minutes)\")\n",
        "    print(\"=\" * 50)\n",
        "\n",
        "    # Plot training curves\n",
        "    plot_training_curves(train_losses, val_losses, train_accs, val_accs)\n",
        "\n",
        "    # Evaluate on test set\n",
        "    evaluate_model(model, test_loader)\n",
        "\n",
        "    print(\"Training completed!\")\n",
        "\n",
        "start_train()"
      ],
      "metadata": {
        "id": "10ksY4WaKHy5",
        "colab": {
          "base_uri": "https://localhost:8080/",
          "height": 1000
        },
        "outputId": "9d0bc021-b0e2-44c5-a61f-425562c4e85a"
      },
      "execution_count": null,
      "outputs": [
        {
          "output_type": "stream",
          "name": "stdout",
          "text": [
            "Training Configuration:\n",
            "----------------------\n",
            "Image Size: 64x64\n",
            "Batch Size: 100\n",
            "Epochs: 20\n",
            "Classes: 13\n",
            "Learning Rate: 0.0001\n",
            "Device: cuda\n",
            "----------------------\n",
            "\n",
            "Dataset Information:\n",
            "-------------------\n",
            "Training samples: 6725\n",
            "Validation samples: 1584\n",
            "Testing samples: 1205\n",
            "Class mapping: {'Speed Limit 10': 0, 'Speed Limit 20': 1, 'Speed Limit 30': 2, 'Speed Limit 40': 3, 'Speed Limit 50': 4, 'Speed Limit 60': 5, 'Speed Limit 70': 6, 'Speed Limit 80': 7, 'Speed Limit 90': 8, 'Speed Limit 100': 9, 'Speed Limit 110': 10, 'Speed Limit 120': 11, 'Stop': 12}\n",
            "-------------------\n"
          ]
        },
        {
          "output_type": "stream",
          "name": "stderr",
          "text": [
            "/usr/local/lib/python3.11/dist-packages/torch/utils/data/dataloader.py:617: UserWarning: This DataLoader will create 4 worker processes in total. Our suggested max number of worker in current system is 2, which is smaller than what this DataLoader is going to create. Please be aware that excessive worker creation might get DataLoader running slow or even freeze, lower the worker number to avoid potential slowness/freeze if necessary.\n",
            "  warnings.warn(\n",
            "/usr/local/lib/python3.11/dist-packages/torch/optim/lr_scheduler.py:62: UserWarning: The verbose parameter is deprecated. Please use get_last_lr() to access the learning rate.\n",
            "  warnings.warn(\n"
          ]
        },
        {
          "output_type": "stream",
          "name": "stdout",
          "text": [
            "\n",
            "Starting training...\n",
            "==================================================\n",
            "Model Architecture:\n",
            "SimpleTrafficSignNet(\n",
            "  (conv1): Conv2d(3, 64, kernel_size=(5, 5), stride=(1, 1), padding=(2, 2))\n",
            "  (dropout1): Dropout(p=0.1, inplace=False)\n",
            "  (pool): MaxPool2d(kernel_size=2, stride=2, padding=0, dilation=1, ceil_mode=False)\n",
            "  (conv2): Conv2d(64, 128, kernel_size=(5, 5), stride=(1, 1), padding=(2, 2))\n",
            "  (dropout2): Dropout(p=0.2, inplace=False)\n",
            "  (conv3): Conv2d(128, 256, kernel_size=(5, 5), stride=(1, 1), padding=(2, 2))\n",
            "  (dropout3): Dropout(p=0.3, inplace=False)\n",
            "  (pool4): MaxPool2d(kernel_size=8, stride=8, padding=0, dilation=1, ceil_mode=False)\n",
            "  (pool5): MaxPool2d(kernel_size=2, stride=2, padding=0, dilation=1, ceil_mode=False)\n",
            "  (dropout4): Dropout(p=0.5, inplace=False)\n",
            "  (fc1): Linear(in_features=28672, out_features=1024, bias=True)\n",
            "  (fc2): Linear(in_features=1024, out_features=13, bias=True)\n",
            ")\n",
            "Total parameters: 30403725\n",
            "Trainable parameters: 30403725\n",
            "--------------------------------------------------\n",
            "Epoch 1/20\n",
            "------------------------------\n"
          ]
        },
        {
          "output_type": "stream",
          "name": "stderr",
          "text": [
            "Epoch 1/20 [Train]:   4%|▍         | 3/68 [00:02<00:42,  1.55it/s, acc=0.2000, loss=2.4390]"
          ]
        },
        {
          "output_type": "stream",
          "name": "stdout",
          "text": [
            "  Batch 0/68: Loss: 2.5622, Acc: 0.1000\n"
          ]
        },
        {
          "output_type": "stream",
          "name": "stderr",
          "text": [
            "Epoch 1/20 [Train]:  16%|█▌        | 11/68 [00:03<00:08,  6.69it/s, acc=0.2400, loss=2.3043]"
          ]
        },
        {
          "output_type": "stream",
          "name": "stdout",
          "text": [
            "  Batch 10/68: Loss: 2.3481, Acc: 0.2300\n"
          ]
        },
        {
          "output_type": "stream",
          "name": "stderr",
          "text": [
            "Epoch 1/20 [Train]:  34%|███▍      | 23/68 [00:05<00:11,  4.01it/s, acc=0.2900, loss=2.2390]"
          ]
        },
        {
          "output_type": "stream",
          "name": "stdout",
          "text": [
            "  Batch 20/68: Loss: 2.1421, Acc: 0.2600\n"
          ]
        },
        {
          "output_type": "stream",
          "name": "stderr",
          "text": [
            "Epoch 1/20 [Train]:  46%|████▌     | 31/68 [00:08<00:09,  3.95it/s, acc=0.2700, loss=1.8825]"
          ]
        },
        {
          "output_type": "stream",
          "name": "stdout",
          "text": [
            "  Batch 30/68: Loss: 2.0301, Acc: 0.2400\n"
          ]
        },
        {
          "output_type": "stream",
          "name": "stderr",
          "text": [
            "Epoch 1/20 [Train]:  62%|██████▏   | 42/68 [00:10<00:05,  4.76it/s, acc=0.2900, loss=1.9056]"
          ]
        },
        {
          "output_type": "stream",
          "name": "stdout",
          "text": [
            "  Batch 40/68: Loss: 1.8234, Acc: 0.4000\n"
          ]
        },
        {
          "output_type": "stream",
          "name": "stderr",
          "text": [
            "Epoch 1/20 [Train]:  76%|███████▋  | 52/68 [00:11<00:02,  6.44it/s, acc=0.4800, loss=1.6288]"
          ]
        },
        {
          "output_type": "stream",
          "name": "stdout",
          "text": [
            "  Batch 50/68: Loss: 1.6507, Acc: 0.4200\n"
          ]
        },
        {
          "output_type": "stream",
          "name": "stderr",
          "text": [
            "Epoch 1/20 [Train]:  90%|████████▉ | 61/68 [00:13<00:01,  6.18it/s, acc=0.4400, loss=1.6136]"
          ]
        },
        {
          "output_type": "stream",
          "name": "stdout",
          "text": [
            "  Batch 60/68: Loss: 1.6136, Acc: 0.4400\n"
          ]
        },
        {
          "output_type": "stream",
          "name": "stderr",
          "text": [
            "Epoch 1/20 [Train]: 100%|██████████| 68/68 [00:14<00:00,  4.82it/s, acc=0.8400, loss=1.0416]\n"
          ]
        },
        {
          "output_type": "stream",
          "name": "stdout",
          "text": [
            "Train Loss: 1.9595 Acc: 0.3313\n"
          ]
        },
        {
          "output_type": "stream",
          "name": "stderr",
          "text": [
            "Epoch 1/20 [Val]: 100%|██████████| 16/16 [00:02<00:00,  7.86it/s, acc=0.6190, loss=1.3947]\n"
          ]
        },
        {
          "output_type": "stream",
          "name": "stdout",
          "text": [
            "Val Loss: 1.5236 Acc: 0.5183\n",
            "New best model saved! Validation accuracy: 0.5183\n",
            "Epoch 2/20\n",
            "------------------------------\n"
          ]
        },
        {
          "output_type": "stream",
          "name": "stderr",
          "text": [
            "Epoch 2/20 [Train]:   3%|▎         | 2/68 [00:00<00:26,  2.50it/s, acc=0.5700, loss=1.2306]"
          ]
        },
        {
          "output_type": "stream",
          "name": "stdout",
          "text": [
            "  Batch 0/68: Loss: 1.3250, Acc: 0.5400\n"
          ]
        },
        {
          "output_type": "stream",
          "name": "stderr",
          "text": [
            "Epoch 2/20 [Train]:  18%|█▊        | 12/68 [00:02<00:07,  7.10it/s, acc=0.7600, loss=1.0523]"
          ]
        },
        {
          "output_type": "stream",
          "name": "stdout",
          "text": [
            "  Batch 10/68: Loss: 1.0953, Acc: 0.6600\n"
          ]
        },
        {
          "output_type": "stream",
          "name": "stderr",
          "text": [
            "Epoch 2/20 [Train]:  32%|███▏      | 22/68 [00:04<00:08,  5.48it/s, acc=0.7300, loss=0.8390]"
          ]
        },
        {
          "output_type": "stream",
          "name": "stdout",
          "text": [
            "  Batch 20/68: Loss: 1.0258, Acc: 0.6500\n"
          ]
        },
        {
          "output_type": "stream",
          "name": "stderr",
          "text": [
            "Epoch 2/20 [Train]:  47%|████▋     | 32/68 [00:05<00:05,  6.92it/s, acc=0.8100, loss=0.6113]"
          ]
        },
        {
          "output_type": "stream",
          "name": "stdout",
          "text": [
            "  Batch 30/68: Loss: 0.6506, Acc: 0.8100\n"
          ]
        },
        {
          "output_type": "stream",
          "name": "stderr",
          "text": [
            "Epoch 2/20 [Train]:  60%|██████    | 41/68 [00:07<00:03,  7.66it/s, acc=0.8400, loss=0.6010]"
          ]
        },
        {
          "output_type": "stream",
          "name": "stdout",
          "text": [
            "  Batch 40/68: Loss: 0.6570, Acc: 0.8100\n"
          ]
        },
        {
          "output_type": "stream",
          "name": "stderr",
          "text": [
            "Epoch 2/20 [Train]:  78%|███████▊  | 53/68 [00:08<00:01,  8.53it/s, acc=0.8400, loss=0.4893]"
          ]
        },
        {
          "output_type": "stream",
          "name": "stdout",
          "text": [
            "  Batch 50/68: Loss: 0.5723, Acc: 0.8100\n"
          ]
        },
        {
          "output_type": "stream",
          "name": "stderr",
          "text": [
            "Epoch 2/20 [Train]:  91%|█████████ | 62/68 [00:09<00:00,  9.31it/s, acc=0.8900, loss=0.3906]"
          ]
        },
        {
          "output_type": "stream",
          "name": "stdout",
          "text": [
            "  Batch 60/68: Loss: 0.4565, Acc: 0.9300\n"
          ]
        },
        {
          "output_type": "stream",
          "name": "stderr",
          "text": [
            "Epoch 2/20 [Train]: 100%|██████████| 68/68 [00:10<00:00,  6.57it/s, acc=0.8000, loss=0.4773]\n"
          ]
        },
        {
          "output_type": "stream",
          "name": "stdout",
          "text": [
            "Train Loss: 0.7293 Acc: 0.7816\n"
          ]
        },
        {
          "output_type": "stream",
          "name": "stderr",
          "text": [
            "Epoch 2/20 [Val]: 100%|██████████| 16/16 [00:02<00:00,  7.87it/s, acc=0.8929, loss=0.4991]\n"
          ]
        },
        {
          "output_type": "stream",
          "name": "stdout",
          "text": [
            "Val Loss: 0.4656 Acc: 0.9249\n",
            "New best model saved! Validation accuracy: 0.9249\n",
            "Epoch 3/20\n",
            "------------------------------\n"
          ]
        },
        {
          "output_type": "stream",
          "name": "stderr",
          "text": [
            "Epoch 3/20 [Train]:   3%|▎         | 2/68 [00:01<00:31,  2.09it/s, acc=0.8400, loss=0.6127]"
          ]
        },
        {
          "output_type": "stream",
          "name": "stdout",
          "text": [
            "  Batch 0/68: Loss: 0.4347, Acc: 0.8400\n"
          ]
        },
        {
          "output_type": "stream",
          "name": "stderr",
          "text": [
            "Epoch 3/20 [Train]:  18%|█▊        | 12/68 [00:02<00:08,  6.43it/s, acc=0.8700, loss=0.4205]"
          ]
        },
        {
          "output_type": "stream",
          "name": "stdout",
          "text": [
            "  Batch 10/68: Loss: 0.3864, Acc: 0.8700\n"
          ]
        },
        {
          "output_type": "stream",
          "name": "stderr",
          "text": [
            "Epoch 3/20 [Train]:  34%|███▍      | 23/68 [00:05<00:08,  5.17it/s, acc=0.9200, loss=0.3020]"
          ]
        },
        {
          "output_type": "stream",
          "name": "stdout",
          "text": [
            "  Batch 20/68: Loss: 0.4918, Acc: 0.8900\n"
          ]
        },
        {
          "output_type": "stream",
          "name": "stderr",
          "text": [
            "Epoch 3/20 [Train]:  46%|████▌     | 31/68 [00:06<00:06,  5.65it/s, acc=0.8900, loss=0.3279]"
          ]
        },
        {
          "output_type": "stream",
          "name": "stdout",
          "text": [
            "  Batch 30/68: Loss: 0.2562, Acc: 0.9400\n"
          ]
        },
        {
          "output_type": "stream",
          "name": "stderr",
          "text": [
            "Epoch 3/20 [Train]:  63%|██████▎   | 43/68 [00:08<00:03,  8.16it/s, acc=0.9300, loss=0.2069]"
          ]
        },
        {
          "output_type": "stream",
          "name": "stdout",
          "text": [
            "  Batch 40/68: Loss: 0.3056, Acc: 0.9000\n"
          ]
        },
        {
          "output_type": "stream",
          "name": "stderr",
          "text": [
            "Epoch 3/20 [Train]:  75%|███████▌  | 51/68 [00:09<00:01,  8.91it/s, acc=0.9300, loss=0.2858]"
          ]
        },
        {
          "output_type": "stream",
          "name": "stdout",
          "text": [
            "  Batch 50/68: Loss: 0.2036, Acc: 0.9500\n"
          ]
        },
        {
          "output_type": "stream",
          "name": "stderr",
          "text": [
            "Epoch 3/20 [Train]:  93%|█████████▎| 63/68 [00:10<00:00,  9.54it/s, acc=0.9400, loss=0.2350]"
          ]
        },
        {
          "output_type": "stream",
          "name": "stdout",
          "text": [
            "  Batch 60/68: Loss: 0.2252, Acc: 0.9300\n"
          ]
        },
        {
          "output_type": "stream",
          "name": "stderr",
          "text": [
            "Epoch 3/20 [Train]: 100%|██████████| 68/68 [00:11<00:00,  6.11it/s, acc=1.0000, loss=0.0756]\n"
          ]
        },
        {
          "output_type": "stream",
          "name": "stdout",
          "text": [
            "Train Loss: 0.2932 Acc: 0.9216\n"
          ]
        },
        {
          "output_type": "stream",
          "name": "stderr",
          "text": [
            "Epoch 3/20 [Val]: 100%|██████████| 16/16 [00:02<00:00,  7.85it/s, acc=0.9524, loss=0.3649]\n"
          ]
        },
        {
          "output_type": "stream",
          "name": "stdout",
          "text": [
            "Val Loss: 0.3294 Acc: 0.9444\n",
            "New best model saved! Validation accuracy: 0.9444\n",
            "Epoch 4/20\n",
            "------------------------------\n"
          ]
        },
        {
          "output_type": "stream",
          "name": "stderr",
          "text": [
            "Epoch 4/20 [Train]:   3%|▎         | 2/68 [00:00<00:21,  3.09it/s, acc=0.9500, loss=0.1787]"
          ]
        },
        {
          "output_type": "stream",
          "name": "stdout",
          "text": [
            "  Batch 0/68: Loss: 0.1946, Acc: 0.9600\n"
          ]
        },
        {
          "output_type": "stream",
          "name": "stderr",
          "text": [
            "Epoch 4/20 [Train]:  18%|█▊        | 12/68 [00:01<00:06,  9.13it/s, acc=0.9400, loss=0.1847]"
          ]
        },
        {
          "output_type": "stream",
          "name": "stdout",
          "text": [
            "  Batch 10/68: Loss: 0.1033, Acc: 0.9800\n"
          ]
        },
        {
          "output_type": "stream",
          "name": "stderr",
          "text": [
            "Epoch 4/20 [Train]:  29%|██▉       | 20/68 [00:02<00:05,  8.94it/s, acc=0.9800, loss=0.0974]"
          ]
        },
        {
          "output_type": "stream",
          "name": "stdout",
          "text": [
            "  Batch 20/68: Loss: 0.0974, Acc: 0.9800\n"
          ]
        },
        {
          "output_type": "stream",
          "name": "stderr",
          "text": [
            "Epoch 4/20 [Train]:  47%|████▋     | 32/68 [00:04<00:05,  6.40it/s, acc=0.9500, loss=0.1552]"
          ]
        },
        {
          "output_type": "stream",
          "name": "stdout",
          "text": [
            "  Batch 30/68: Loss: 0.1206, Acc: 0.9600\n"
          ]
        },
        {
          "output_type": "stream",
          "name": "stderr",
          "text": [
            "Epoch 4/20 [Train]:  60%|██████    | 41/68 [00:06<00:04,  6.01it/s, acc=0.9700, loss=0.1572]"
          ]
        },
        {
          "output_type": "stream",
          "name": "stdout",
          "text": [
            "  Batch 40/68: Loss: 0.1572, Acc: 0.9700\n"
          ]
        },
        {
          "output_type": "stream",
          "name": "stderr",
          "text": [
            "Epoch 4/20 [Train]:  74%|███████▎  | 50/68 [00:08<00:02,  6.38it/s, acc=0.9700, loss=0.1325]"
          ]
        },
        {
          "output_type": "stream",
          "name": "stdout",
          "text": [
            "  Batch 50/68: Loss: 0.1325, Acc: 0.9700\n"
          ]
        },
        {
          "output_type": "stream",
          "name": "stderr",
          "text": [
            "Epoch 4/20 [Train]:  88%|████████▊ | 60/68 [00:09<00:01,  7.81it/s, acc=0.9900, loss=0.0703]"
          ]
        },
        {
          "output_type": "stream",
          "name": "stdout",
          "text": [
            "  Batch 60/68: Loss: 0.0703, Acc: 0.9900\n"
          ]
        },
        {
          "output_type": "stream",
          "name": "stderr",
          "text": [
            "Epoch 4/20 [Train]: 100%|██████████| 68/68 [00:10<00:00,  6.70it/s, acc=1.0000, loss=0.0168]\n"
          ]
        },
        {
          "output_type": "stream",
          "name": "stdout",
          "text": [
            "Train Loss: 0.1641 Acc: 0.9609\n"
          ]
        },
        {
          "output_type": "stream",
          "name": "stderr",
          "text": [
            "Epoch 4/20 [Val]: 100%|██████████| 16/16 [00:02<00:00,  7.77it/s, acc=0.9643, loss=0.2749]\n"
          ]
        },
        {
          "output_type": "stream",
          "name": "stdout",
          "text": [
            "Val Loss: 0.2412 Acc: 0.9545\n",
            "New best model saved! Validation accuracy: 0.9545\n",
            "Epoch 5/20\n",
            "------------------------------\n"
          ]
        },
        {
          "output_type": "stream",
          "name": "stderr",
          "text": [
            "Epoch 5/20 [Train]:   3%|▎         | 2/68 [00:00<00:24,  2.70it/s, acc=0.9600, loss=0.1556]"
          ]
        },
        {
          "output_type": "stream",
          "name": "stdout",
          "text": [
            "  Batch 0/68: Loss: 0.2654, Acc: 0.9600\n"
          ]
        },
        {
          "output_type": "stream",
          "name": "stderr",
          "text": [
            "Epoch 5/20 [Train]:  16%|█▌        | 11/68 [00:02<00:07,  7.38it/s, acc=0.9800, loss=0.0981]"
          ]
        },
        {
          "output_type": "stream",
          "name": "stdout",
          "text": [
            "  Batch 10/68: Loss: 0.1169, Acc: 0.9900\n"
          ]
        },
        {
          "output_type": "stream",
          "name": "stderr",
          "text": [
            "Epoch 5/20 [Train]:  34%|███▍      | 23/68 [00:03<00:05,  8.42it/s, acc=0.9800, loss=0.0985]"
          ]
        },
        {
          "output_type": "stream",
          "name": "stdout",
          "text": [
            "  Batch 20/68: Loss: 0.1485, Acc: 0.9600\n"
          ]
        },
        {
          "output_type": "stream",
          "name": "stderr",
          "text": [
            "Epoch 5/20 [Train]:  46%|████▌     | 31/68 [00:04<00:03,  9.27it/s, acc=0.9500, loss=0.4578]"
          ]
        },
        {
          "output_type": "stream",
          "name": "stdout",
          "text": [
            "  Batch 30/68: Loss: 0.0691, Acc: 0.9900\n"
          ]
        },
        {
          "output_type": "stream",
          "name": "stderr",
          "text": [
            "Epoch 5/20 [Train]:  62%|██████▏   | 42/68 [00:06<00:04,  5.73it/s, acc=0.9700, loss=0.0996]"
          ]
        },
        {
          "output_type": "stream",
          "name": "stdout",
          "text": [
            "  Batch 40/68: Loss: 0.0949, Acc: 0.9800\n"
          ]
        },
        {
          "output_type": "stream",
          "name": "stderr",
          "text": [
            "Epoch 5/20 [Train]:  75%|███████▌  | 51/68 [00:08<00:03,  5.58it/s, acc=0.9900, loss=0.0657]"
          ]
        },
        {
          "output_type": "stream",
          "name": "stdout",
          "text": [
            "  Batch 50/68: Loss: 0.1214, Acc: 0.9600\n"
          ]
        },
        {
          "output_type": "stream",
          "name": "stderr",
          "text": [
            "Epoch 5/20 [Train]:  93%|█████████▎| 63/68 [00:09<00:00,  7.57it/s, acc=0.9600, loss=0.1220]"
          ]
        },
        {
          "output_type": "stream",
          "name": "stdout",
          "text": [
            "  Batch 60/68: Loss: 0.0518, Acc: 0.9900\n"
          ]
        },
        {
          "output_type": "stream",
          "name": "stderr",
          "text": [
            "Epoch 5/20 [Train]: 100%|██████████| 68/68 [00:10<00:00,  6.61it/s, acc=0.9600, loss=0.2700]\n"
          ]
        },
        {
          "output_type": "stream",
          "name": "stdout",
          "text": [
            "Train Loss: 0.1227 Acc: 0.9717\n"
          ]
        },
        {
          "output_type": "stream",
          "name": "stderr",
          "text": [
            "Epoch 5/20 [Val]: 100%|██████████| 16/16 [00:02<00:00,  7.83it/s, acc=0.9524, loss=0.2881]\n"
          ]
        },
        {
          "output_type": "stream",
          "name": "stdout",
          "text": [
            "Val Loss: 0.2416 Acc: 0.9571\n",
            "New best model saved! Validation accuracy: 0.9571\n",
            "Epoch 6/20\n",
            "------------------------------\n"
          ]
        },
        {
          "output_type": "stream",
          "name": "stderr",
          "text": [
            "Epoch 6/20 [Train]:   1%|▏         | 1/68 [00:00<00:46,  1.44it/s, acc=0.9900, loss=0.0982]"
          ]
        },
        {
          "output_type": "stream",
          "name": "stdout",
          "text": [
            "  Batch 0/68: Loss: 0.0907, Acc: 0.9800\n"
          ]
        },
        {
          "output_type": "stream",
          "name": "stderr",
          "text": [
            "Epoch 6/20 [Train]:  16%|█▌        | 11/68 [00:01<00:07,  8.01it/s, acc=0.9900, loss=0.0482]"
          ]
        },
        {
          "output_type": "stream",
          "name": "stdout",
          "text": [
            "  Batch 10/68: Loss: 0.0751, Acc: 0.9900\n"
          ]
        },
        {
          "output_type": "stream",
          "name": "stderr",
          "text": [
            "Epoch 6/20 [Train]:  34%|███▍      | 23/68 [00:03<00:05,  8.46it/s, acc=0.9600, loss=0.1200]"
          ]
        },
        {
          "output_type": "stream",
          "name": "stdout",
          "text": [
            "  Batch 20/68: Loss: 0.0522, Acc: 0.9800\n"
          ]
        },
        {
          "output_type": "stream",
          "name": "stderr",
          "text": [
            "Epoch 6/20 [Train]:  46%|████▌     | 31/68 [00:04<00:04,  8.48it/s, acc=0.9700, loss=0.0943]"
          ]
        },
        {
          "output_type": "stream",
          "name": "stdout",
          "text": [
            "  Batch 30/68: Loss: 0.1907, Acc: 0.9700\n"
          ]
        },
        {
          "output_type": "stream",
          "name": "stderr",
          "text": [
            "Epoch 6/20 [Train]:  63%|██████▎   | 43/68 [00:05<00:03,  7.76it/s, acc=0.9800, loss=0.0891]"
          ]
        },
        {
          "output_type": "stream",
          "name": "stdout",
          "text": [
            "  Batch 40/68: Loss: 0.1213, Acc: 0.9700\n"
          ]
        },
        {
          "output_type": "stream",
          "name": "stderr",
          "text": [
            "Epoch 6/20 [Train]:  75%|███████▌  | 51/68 [00:07<00:02,  7.49it/s, acc=0.9900, loss=0.0684]"
          ]
        },
        {
          "output_type": "stream",
          "name": "stdout",
          "text": [
            "  Batch 50/68: Loss: 0.1634, Acc: 0.9700\n"
          ]
        },
        {
          "output_type": "stream",
          "name": "stderr",
          "text": [
            "Epoch 6/20 [Train]:  93%|█████████▎| 63/68 [00:09<00:00,  6.08it/s, acc=0.9400, loss=0.1332]"
          ]
        },
        {
          "output_type": "stream",
          "name": "stdout",
          "text": [
            "  Batch 60/68: Loss: 0.1553, Acc: 0.9700\n"
          ]
        },
        {
          "output_type": "stream",
          "name": "stderr",
          "text": [
            "Epoch 6/20 [Train]: 100%|██████████| 68/68 [00:09<00:00,  6.84it/s, acc=1.0000, loss=0.0218]\n"
          ]
        },
        {
          "output_type": "stream",
          "name": "stdout",
          "text": [
            "Train Loss: 0.1134 Acc: 0.9671\n"
          ]
        },
        {
          "output_type": "stream",
          "name": "stderr",
          "text": [
            "Epoch 6/20 [Val]: 100%|██████████| 16/16 [00:02<00:00,  7.23it/s, acc=0.9762, loss=0.2330]\n"
          ]
        },
        {
          "output_type": "stream",
          "name": "stdout",
          "text": [
            "Val Loss: 0.1990 Acc: 0.9691\n",
            "New best model saved! Validation accuracy: 0.9691\n",
            "Epoch 7/20\n",
            "------------------------------\n"
          ]
        },
        {
          "output_type": "stream",
          "name": "stderr",
          "text": [
            "Epoch 7/20 [Train]:   3%|▎         | 2/68 [00:00<00:22,  2.98it/s, acc=0.9800, loss=0.1255]"
          ]
        },
        {
          "output_type": "stream",
          "name": "stdout",
          "text": [
            "  Batch 0/68: Loss: 0.1106, Acc: 0.9600\n"
          ]
        },
        {
          "output_type": "stream",
          "name": "stderr",
          "text": [
            "Epoch 7/20 [Train]:  19%|█▉        | 13/68 [00:02<00:06,  7.97it/s, acc=0.9800, loss=0.0789]"
          ]
        },
        {
          "output_type": "stream",
          "name": "stdout",
          "text": [
            "  Batch 10/68: Loss: 0.0353, Acc: 1.0000\n"
          ]
        },
        {
          "output_type": "stream",
          "name": "stderr",
          "text": [
            "Epoch 7/20 [Train]:  29%|██▉       | 20/68 [00:03<00:06,  7.84it/s, acc=0.9800, loss=0.0705]"
          ]
        },
        {
          "output_type": "stream",
          "name": "stdout",
          "text": [
            "  Batch 20/68: Loss: 0.0705, Acc: 0.9800\n"
          ]
        },
        {
          "output_type": "stream",
          "name": "stderr",
          "text": [
            "Epoch 7/20 [Train]:  47%|████▋     | 32/68 [00:04<00:04,  8.51it/s, acc=0.9900, loss=0.0604]"
          ]
        },
        {
          "output_type": "stream",
          "name": "stdout",
          "text": [
            "  Batch 30/68: Loss: 0.0817, Acc: 0.9800\n"
          ]
        },
        {
          "output_type": "stream",
          "name": "stderr",
          "text": [
            "Epoch 7/20 [Train]:  59%|█████▉    | 40/68 [00:05<00:03,  8.00it/s, acc=0.9800, loss=0.0595]"
          ]
        },
        {
          "output_type": "stream",
          "name": "stdout",
          "text": [
            "  Batch 40/68: Loss: 0.0595, Acc: 0.9800\n"
          ]
        },
        {
          "output_type": "stream",
          "name": "stderr",
          "text": [
            "Epoch 7/20 [Train]:  76%|███████▋  | 52/68 [00:07<00:01,  8.92it/s, acc=0.9900, loss=0.0795]"
          ]
        },
        {
          "output_type": "stream",
          "name": "stdout",
          "text": [
            "  Batch 50/68: Loss: 0.0878, Acc: 0.9900\n"
          ]
        },
        {
          "output_type": "stream",
          "name": "stderr",
          "text": [
            "Epoch 7/20 [Train]:  88%|████████▊ | 60/68 [00:08<00:00,  8.27it/s, acc=0.9900, loss=0.0242]"
          ]
        },
        {
          "output_type": "stream",
          "name": "stdout",
          "text": [
            "  Batch 60/68: Loss: 0.0242, Acc: 0.9900\n"
          ]
        },
        {
          "output_type": "stream",
          "name": "stderr",
          "text": [
            "Epoch 7/20 [Train]: 100%|██████████| 68/68 [00:09<00:00,  7.41it/s, acc=0.9200, loss=0.1166]\n"
          ]
        },
        {
          "output_type": "stream",
          "name": "stdout",
          "text": [
            "Train Loss: 0.0825 Acc: 0.9796\n"
          ]
        },
        {
          "output_type": "stream",
          "name": "stderr",
          "text": [
            "Epoch 7/20 [Val]: 100%|██████████| 16/16 [00:03<00:00,  5.11it/s, acc=0.9524, loss=0.2253]\n"
          ]
        },
        {
          "output_type": "stream",
          "name": "stdout",
          "text": [
            "Val Loss: 0.2073 Acc: 0.9590\n",
            "Epoch 8/20\n",
            "------------------------------\n"
          ]
        },
        {
          "output_type": "stream",
          "name": "stderr",
          "text": [
            "Epoch 8/20 [Train]:   3%|▎         | 2/68 [00:00<00:21,  3.09it/s, acc=0.9700, loss=0.0855]"
          ]
        },
        {
          "output_type": "stream",
          "name": "stdout",
          "text": [
            "  Batch 0/68: Loss: 0.1311, Acc: 0.9700\n"
          ]
        },
        {
          "output_type": "stream",
          "name": "stderr",
          "text": [
            "Epoch 8/20 [Train]:  16%|█▌        | 11/68 [00:01<00:06,  8.22it/s, acc=0.9700, loss=0.0766]"
          ]
        },
        {
          "output_type": "stream",
          "name": "stdout",
          "text": [
            "  Batch 10/68: Loss: 0.0892, Acc: 0.9800\n"
          ]
        },
        {
          "output_type": "stream",
          "name": "stderr",
          "text": [
            "Epoch 8/20 [Train]:  32%|███▏      | 22/68 [00:03<00:05,  7.90it/s, acc=0.9800, loss=0.0872]"
          ]
        },
        {
          "output_type": "stream",
          "name": "stdout",
          "text": [
            "  Batch 20/68: Loss: 0.0510, Acc: 0.9900\n"
          ]
        },
        {
          "output_type": "stream",
          "name": "stderr",
          "text": [
            "Epoch 8/20 [Train]:  47%|████▋     | 32/68 [00:04<00:04,  8.80it/s, acc=0.9800, loss=0.0933]"
          ]
        },
        {
          "output_type": "stream",
          "name": "stdout",
          "text": [
            "  Batch 30/68: Loss: 0.0513, Acc: 0.9900\n"
          ]
        },
        {
          "output_type": "stream",
          "name": "stderr",
          "text": [
            "Epoch 8/20 [Train]:  62%|██████▏   | 42/68 [00:05<00:02,  9.70it/s, acc=0.9800, loss=0.0694]"
          ]
        },
        {
          "output_type": "stream",
          "name": "stdout",
          "text": [
            "  Batch 40/68: Loss: 0.1164, Acc: 0.9700\n"
          ]
        },
        {
          "output_type": "stream",
          "name": "stderr",
          "text": [
            "Epoch 8/20 [Train]:  76%|███████▋  | 52/68 [00:06<00:02,  7.47it/s, acc=0.9700, loss=0.1340]"
          ]
        },
        {
          "output_type": "stream",
          "name": "stdout",
          "text": [
            "  Batch 50/68: Loss: 0.1065, Acc: 0.9600\n"
          ]
        },
        {
          "output_type": "stream",
          "name": "stderr",
          "text": [
            "Epoch 8/20 [Train]:  91%|█████████ | 62/68 [00:07<00:00,  9.44it/s, acc=0.9800, loss=0.0675]"
          ]
        },
        {
          "output_type": "stream",
          "name": "stdout",
          "text": [
            "  Batch 60/68: Loss: 0.0848, Acc: 0.9800\n"
          ]
        },
        {
          "output_type": "stream",
          "name": "stderr",
          "text": [
            "Epoch 8/20 [Train]: 100%|██████████| 68/68 [00:08<00:00,  7.98it/s, acc=0.9600, loss=0.0568]\n"
          ]
        },
        {
          "output_type": "stream",
          "name": "stdout",
          "text": [
            "Train Loss: 0.0768 Acc: 0.9805\n"
          ]
        },
        {
          "output_type": "stream",
          "name": "stderr",
          "text": [
            "Epoch 8/20 [Val]: 100%|██████████| 16/16 [00:03<00:00,  4.81it/s, acc=0.9643, loss=0.2364]\n"
          ]
        },
        {
          "output_type": "stream",
          "name": "stdout",
          "text": [
            "Val Loss: 0.1959 Acc: 0.9634\n",
            "Epoch 9/20\n",
            "------------------------------\n"
          ]
        },
        {
          "output_type": "stream",
          "name": "stderr",
          "text": [
            "Epoch 9/20 [Train]:   3%|▎         | 2/68 [00:01<00:38,  1.70it/s, acc=0.9800, loss=0.0878]"
          ]
        },
        {
          "output_type": "stream",
          "name": "stdout",
          "text": [
            "  Batch 0/68: Loss: 0.0548, Acc: 0.9900\n"
          ]
        },
        {
          "output_type": "stream",
          "name": "stderr",
          "text": [
            "Epoch 9/20 [Train]:  16%|█▌        | 11/68 [00:02<00:07,  7.63it/s, acc=0.9800, loss=0.0666]"
          ]
        },
        {
          "output_type": "stream",
          "name": "stdout",
          "text": [
            "  Batch 10/68: Loss: 0.0773, Acc: 0.9800\n"
          ]
        },
        {
          "output_type": "stream",
          "name": "stderr",
          "text": [
            "Epoch 9/20 [Train]:  34%|███▍      | 23/68 [00:03<00:05,  8.92it/s, acc=0.9800, loss=0.0627]"
          ]
        },
        {
          "output_type": "stream",
          "name": "stdout",
          "text": [
            "  Batch 20/68: Loss: 0.1134, Acc: 0.9800\n"
          ]
        },
        {
          "output_type": "stream",
          "name": "stderr",
          "text": [
            "Epoch 9/20 [Train]:  49%|████▊     | 33/68 [00:05<00:04,  8.53it/s, acc=0.9700, loss=0.0963]"
          ]
        },
        {
          "output_type": "stream",
          "name": "stdout",
          "text": [
            "  Batch 30/68: Loss: 0.1288, Acc: 0.9600\n"
          ]
        },
        {
          "output_type": "stream",
          "name": "stderr",
          "text": [
            "Epoch 9/20 [Train]:  60%|██████    | 41/68 [00:06<00:03,  8.34it/s, acc=0.9900, loss=0.0749]"
          ]
        },
        {
          "output_type": "stream",
          "name": "stdout",
          "text": [
            "  Batch 40/68: Loss: 0.0585, Acc: 0.9900\n"
          ]
        },
        {
          "output_type": "stream",
          "name": "stderr",
          "text": [
            "Epoch 9/20 [Train]:  78%|███████▊  | 53/68 [00:07<00:01,  9.71it/s, acc=0.9900, loss=0.0375]"
          ]
        },
        {
          "output_type": "stream",
          "name": "stdout",
          "text": [
            "  Batch 50/68: Loss: 0.0224, Acc: 1.0000\n"
          ]
        },
        {
          "output_type": "stream",
          "name": "stderr",
          "text": [
            "Epoch 9/20 [Train]:  90%|████████▉ | 61/68 [00:08<00:00,  8.48it/s, acc=1.0000, loss=0.0205]"
          ]
        },
        {
          "output_type": "stream",
          "name": "stdout",
          "text": [
            "  Batch 60/68: Loss: 0.0366, Acc: 0.9900\n"
          ]
        },
        {
          "output_type": "stream",
          "name": "stderr",
          "text": [
            "Epoch 9/20 [Train]: 100%|██████████| 68/68 [00:09<00:00,  7.32it/s, acc=1.0000, loss=0.0274]\n"
          ]
        },
        {
          "output_type": "stream",
          "name": "stdout",
          "text": [
            "Train Loss: 0.0618 Acc: 0.9826\n"
          ]
        },
        {
          "output_type": "stream",
          "name": "stderr",
          "text": [
            "Epoch 9/20 [Val]: 100%|██████████| 16/16 [00:02<00:00,  7.79it/s, acc=0.9762, loss=0.2039]\n"
          ]
        },
        {
          "output_type": "stream",
          "name": "stdout",
          "text": [
            "Val Loss: 0.1777 Acc: 0.9634\n",
            "Epoch 10/20\n",
            "------------------------------\n"
          ]
        },
        {
          "output_type": "stream",
          "name": "stderr",
          "text": [
            "Epoch 10/20 [Train]:   3%|▎         | 2/68 [00:01<00:29,  2.24it/s, acc=0.9800, loss=0.0700]"
          ]
        },
        {
          "output_type": "stream",
          "name": "stdout",
          "text": [
            "  Batch 0/68: Loss: 0.0386, Acc: 0.9900\n"
          ]
        },
        {
          "output_type": "stream",
          "name": "stderr",
          "text": [
            "Epoch 10/20 [Train]:  18%|█▊        | 12/68 [00:02<00:09,  5.81it/s, acc=0.9800, loss=0.0385]"
          ]
        },
        {
          "output_type": "stream",
          "name": "stdout",
          "text": [
            "  Batch 10/68: Loss: 0.0756, Acc: 0.9600\n"
          ]
        },
        {
          "output_type": "stream",
          "name": "stderr",
          "text": [
            "Epoch 10/20 [Train]:  34%|███▍      | 23/68 [00:04<00:07,  6.18it/s, acc=0.9800, loss=0.0393]"
          ]
        },
        {
          "output_type": "stream",
          "name": "stdout",
          "text": [
            "  Batch 20/68: Loss: 0.0512, Acc: 0.9800\n"
          ]
        },
        {
          "output_type": "stream",
          "name": "stderr",
          "text": [
            "Epoch 10/20 [Train]:  46%|████▌     | 31/68 [00:05<00:04,  8.58it/s, acc=1.0000, loss=0.0198]"
          ]
        },
        {
          "output_type": "stream",
          "name": "stdout",
          "text": [
            "  Batch 30/68: Loss: 0.1521, Acc: 0.9500\n"
          ]
        },
        {
          "output_type": "stream",
          "name": "stderr",
          "text": [
            "Epoch 10/20 [Train]:  63%|██████▎   | 43/68 [00:07<00:02,  8.72it/s, acc=1.0000, loss=0.0174]"
          ]
        },
        {
          "output_type": "stream",
          "name": "stdout",
          "text": [
            "  Batch 40/68: Loss: 0.0146, Acc: 1.0000\n"
          ]
        },
        {
          "output_type": "stream",
          "name": "stderr",
          "text": [
            "Epoch 10/20 [Train]:  78%|███████▊  | 53/68 [00:08<00:01,  9.16it/s, acc=0.9900, loss=0.0435]"
          ]
        },
        {
          "output_type": "stream",
          "name": "stdout",
          "text": [
            "  Batch 50/68: Loss: 0.0158, Acc: 1.0000\n"
          ]
        },
        {
          "output_type": "stream",
          "name": "stderr",
          "text": [
            "Epoch 10/20 [Train]:  90%|████████▉ | 61/68 [00:09<00:00,  7.96it/s, acc=1.0000, loss=0.0196]"
          ]
        },
        {
          "output_type": "stream",
          "name": "stdout",
          "text": [
            "  Batch 60/68: Loss: 0.0265, Acc: 1.0000\n"
          ]
        },
        {
          "output_type": "stream",
          "name": "stderr",
          "text": [
            "Epoch 10/20 [Train]: 100%|██████████| 68/68 [00:10<00:00,  6.60it/s, acc=1.0000, loss=0.0259]\n"
          ]
        },
        {
          "output_type": "stream",
          "name": "stdout",
          "text": [
            "Train Loss: 0.0562 Acc: 0.9839\n"
          ]
        },
        {
          "output_type": "stream",
          "name": "stderr",
          "text": [
            "Epoch 10/20 [Val]: 100%|██████████| 16/16 [00:02<00:00,  7.84it/s, acc=0.9524, loss=0.2578]\n"
          ]
        },
        {
          "output_type": "stream",
          "name": "stdout",
          "text": [
            "Val Loss: 0.1824 Acc: 0.9722\n",
            "New best model saved! Validation accuracy: 0.9722\n",
            "Epoch 11/20\n",
            "------------------------------\n"
          ]
        },
        {
          "output_type": "stream",
          "name": "stderr",
          "text": [
            "Epoch 11/20 [Train]:   3%|▎         | 2/68 [00:00<00:22,  2.91it/s, acc=1.0000, loss=0.0320]"
          ]
        },
        {
          "output_type": "stream",
          "name": "stdout",
          "text": [
            "  Batch 0/68: Loss: 0.0683, Acc: 0.9800\n"
          ]
        },
        {
          "output_type": "stream",
          "name": "stderr",
          "text": [
            "Epoch 11/20 [Train]:  16%|█▌        | 11/68 [00:01<00:07,  7.98it/s, acc=0.9500, loss=0.0901]"
          ]
        },
        {
          "output_type": "stream",
          "name": "stdout",
          "text": [
            "  Batch 10/68: Loss: 0.0167, Acc: 1.0000\n"
          ]
        },
        {
          "output_type": "stream",
          "name": "stderr",
          "text": [
            "Epoch 11/20 [Train]:  29%|██▉       | 20/68 [00:03<00:08,  5.98it/s, acc=0.9900, loss=0.0316]"
          ]
        },
        {
          "output_type": "stream",
          "name": "stdout",
          "text": [
            "  Batch 20/68: Loss: 0.0316, Acc: 0.9900\n"
          ]
        },
        {
          "output_type": "stream",
          "name": "stderr",
          "text": [
            "Epoch 11/20 [Train]:  47%|████▋     | 32/68 [00:06<00:06,  5.42it/s, acc=0.9800, loss=0.0574]"
          ]
        },
        {
          "output_type": "stream",
          "name": "stdout",
          "text": [
            "  Batch 30/68: Loss: 0.0565, Acc: 0.9800\n"
          ]
        },
        {
          "output_type": "stream",
          "name": "stderr",
          "text": [
            "Epoch 11/20 [Train]:  59%|█████▉    | 40/68 [00:06<00:03,  8.18it/s, acc=0.9700, loss=0.0659]"
          ]
        },
        {
          "output_type": "stream",
          "name": "stdout",
          "text": [
            "  Batch 40/68: Loss: 0.0659, Acc: 0.9700\n"
          ]
        },
        {
          "output_type": "stream",
          "name": "stderr",
          "text": [
            "Epoch 11/20 [Train]:  76%|███████▋  | 52/68 [00:08<00:01,  8.67it/s, acc=0.9700, loss=0.0645]"
          ]
        },
        {
          "output_type": "stream",
          "name": "stdout",
          "text": [
            "  Batch 50/68: Loss: 0.0276, Acc: 0.9900\n"
          ]
        },
        {
          "output_type": "stream",
          "name": "stderr",
          "text": [
            "Epoch 11/20 [Train]:  88%|████████▊ | 60/68 [00:09<00:01,  7.95it/s, acc=0.9600, loss=0.0873]"
          ]
        },
        {
          "output_type": "stream",
          "name": "stdout",
          "text": [
            "  Batch 60/68: Loss: 0.0873, Acc: 0.9600\n"
          ]
        },
        {
          "output_type": "stream",
          "name": "stderr",
          "text": [
            "Epoch 11/20 [Train]: 100%|██████████| 68/68 [00:10<00:00,  6.68it/s, acc=1.0000, loss=0.0383]\n"
          ]
        },
        {
          "output_type": "stream",
          "name": "stdout",
          "text": [
            "Train Loss: 0.0528 Acc: 0.9839\n"
          ]
        },
        {
          "output_type": "stream",
          "name": "stderr",
          "text": [
            "Epoch 11/20 [Val]: 100%|██████████| 16/16 [00:02<00:00,  7.75it/s, acc=0.9643, loss=0.2483]\n"
          ]
        },
        {
          "output_type": "stream",
          "name": "stdout",
          "text": [
            "Val Loss: 0.1861 Acc: 0.9659\n",
            "Epoch 12/20\n",
            "------------------------------\n"
          ]
        },
        {
          "output_type": "stream",
          "name": "stderr",
          "text": [
            "Epoch 12/20 [Train]:   4%|▍         | 3/68 [00:00<00:15,  4.19it/s, acc=0.9900, loss=0.0395]"
          ]
        },
        {
          "output_type": "stream",
          "name": "stdout",
          "text": [
            "  Batch 0/68: Loss: 0.0423, Acc: 0.9900\n"
          ]
        },
        {
          "output_type": "stream",
          "name": "stderr",
          "text": [
            "Epoch 12/20 [Train]:  16%|█▌        | 11/68 [00:01<00:07,  7.68it/s, acc=0.9900, loss=0.0185]"
          ]
        },
        {
          "output_type": "stream",
          "name": "stdout",
          "text": [
            "  Batch 10/68: Loss: 0.0227, Acc: 0.9900\n"
          ]
        },
        {
          "output_type": "stream",
          "name": "stderr",
          "text": [
            "Epoch 12/20 [Train]:  34%|███▍      | 23/68 [00:03<00:05,  8.03it/s, acc=0.9800, loss=0.0639]"
          ]
        },
        {
          "output_type": "stream",
          "name": "stdout",
          "text": [
            "  Batch 20/68: Loss: 0.0260, Acc: 0.9900\n"
          ]
        },
        {
          "output_type": "stream",
          "name": "stderr",
          "text": [
            "Epoch 12/20 [Train]:  46%|████▌     | 31/68 [00:04<00:05,  6.84it/s, acc=0.9700, loss=0.0436]"
          ]
        },
        {
          "output_type": "stream",
          "name": "stdout",
          "text": [
            "  Batch 30/68: Loss: 0.0224, Acc: 0.9900\n"
          ]
        },
        {
          "output_type": "stream",
          "name": "stderr",
          "text": [
            "Epoch 12/20 [Train]:  63%|██████▎   | 43/68 [00:07<00:04,  5.60it/s, acc=0.9900, loss=0.0315]"
          ]
        },
        {
          "output_type": "stream",
          "name": "stdout",
          "text": [
            "  Batch 40/68: Loss: 0.0236, Acc: 1.0000\n"
          ]
        },
        {
          "output_type": "stream",
          "name": "stderr",
          "text": [
            "Epoch 12/20 [Train]:  75%|███████▌  | 51/68 [00:08<00:02,  6.17it/s, acc=0.9800, loss=0.0360]"
          ]
        },
        {
          "output_type": "stream",
          "name": "stdout",
          "text": [
            "  Batch 50/68: Loss: 0.1431, Acc: 0.9700\n"
          ]
        },
        {
          "output_type": "stream",
          "name": "stderr",
          "text": [
            "Epoch 12/20 [Train]:  93%|█████████▎| 63/68 [00:09<00:00,  8.69it/s, acc=1.0000, loss=0.0231]"
          ]
        },
        {
          "output_type": "stream",
          "name": "stdout",
          "text": [
            "  Batch 60/68: Loss: 0.0429, Acc: 0.9700\n"
          ]
        },
        {
          "output_type": "stream",
          "name": "stderr",
          "text": [
            "Epoch 12/20 [Train]: 100%|██████████| 68/68 [00:10<00:00,  6.56it/s, acc=0.9600, loss=0.0683]\n"
          ]
        },
        {
          "output_type": "stream",
          "name": "stdout",
          "text": [
            "Train Loss: 0.0522 Acc: 0.9841\n"
          ]
        },
        {
          "output_type": "stream",
          "name": "stderr",
          "text": [
            "Epoch 12/20 [Val]: 100%|██████████| 16/16 [00:02<00:00,  7.83it/s, acc=0.9643, loss=0.2057]\n"
          ]
        },
        {
          "output_type": "stream",
          "name": "stdout",
          "text": [
            "Val Loss: 0.1773 Acc: 0.9634\n",
            "Epoch 13/20\n",
            "------------------------------\n"
          ]
        },
        {
          "output_type": "stream",
          "name": "stderr",
          "text": [
            "Epoch 13/20 [Train]:   4%|▍         | 3/68 [00:00<00:15,  4.26it/s, acc=0.9900, loss=0.0864]"
          ]
        },
        {
          "output_type": "stream",
          "name": "stdout",
          "text": [
            "  Batch 0/68: Loss: 0.0248, Acc: 0.9900\n"
          ]
        },
        {
          "output_type": "stream",
          "name": "stderr",
          "text": [
            "Epoch 13/20 [Train]:  16%|█▌        | 11/68 [00:01<00:07,  7.33it/s, acc=1.0000, loss=0.0162]"
          ]
        },
        {
          "output_type": "stream",
          "name": "stdout",
          "text": [
            "  Batch 10/68: Loss: 0.1342, Acc: 0.9700\n"
          ]
        },
        {
          "output_type": "stream",
          "name": "stderr",
          "text": [
            "Epoch 13/20 [Train]:  34%|███▍      | 23/68 [00:03<00:05,  8.53it/s, acc=0.9900, loss=0.0537]"
          ]
        },
        {
          "output_type": "stream",
          "name": "stdout",
          "text": [
            "  Batch 20/68: Loss: 0.0681, Acc: 0.9800\n"
          ]
        },
        {
          "output_type": "stream",
          "name": "stderr",
          "text": [
            "Epoch 13/20 [Train]:  46%|████▌     | 31/68 [00:04<00:04,  8.74it/s, acc=1.0000, loss=0.0268]"
          ]
        },
        {
          "output_type": "stream",
          "name": "stdout",
          "text": [
            "  Batch 30/68: Loss: 0.0382, Acc: 0.9900\n"
          ]
        },
        {
          "output_type": "stream",
          "name": "stderr",
          "text": [
            "Epoch 13/20 [Train]:  63%|██████▎   | 43/68 [00:05<00:02,  8.60it/s, acc=0.9900, loss=0.0533]"
          ]
        },
        {
          "output_type": "stream",
          "name": "stdout",
          "text": [
            "  Batch 40/68: Loss: 0.0171, Acc: 1.0000\n"
          ]
        },
        {
          "output_type": "stream",
          "name": "stderr",
          "text": [
            "Epoch 13/20 [Train]:  75%|███████▌  | 51/68 [00:07<00:02,  5.84it/s, acc=0.9800, loss=0.0298]"
          ]
        },
        {
          "output_type": "stream",
          "name": "stdout",
          "text": [
            "  Batch 50/68: Loss: 0.0365, Acc: 0.9800\n"
          ]
        },
        {
          "output_type": "stream",
          "name": "stderr",
          "text": [
            "Epoch 13/20 [Train]:  93%|█████████▎| 63/68 [00:09<00:00,  6.08it/s, acc=0.9700, loss=0.0604]"
          ]
        },
        {
          "output_type": "stream",
          "name": "stdout",
          "text": [
            "  Batch 60/68: Loss: 0.0745, Acc: 0.9800\n"
          ]
        },
        {
          "output_type": "stream",
          "name": "stderr",
          "text": [
            "Epoch 13/20 [Train]: 100%|██████████| 68/68 [00:10<00:00,  6.68it/s, acc=1.0000, loss=0.0058]\n"
          ]
        },
        {
          "output_type": "stream",
          "name": "stdout",
          "text": [
            "Train Loss: 0.0465 Acc: 0.9857\n"
          ]
        },
        {
          "output_type": "stream",
          "name": "stderr",
          "text": [
            "Epoch 13/20 [Val]: 100%|██████████| 16/16 [00:02<00:00,  7.73it/s, acc=0.9524, loss=0.2522]\n"
          ]
        },
        {
          "output_type": "stream",
          "name": "stdout",
          "text": [
            "Val Loss: 0.1865 Acc: 0.9609\n",
            "Epoch 14/20\n",
            "------------------------------\n"
          ]
        },
        {
          "output_type": "stream",
          "name": "stderr",
          "text": [
            "Epoch 14/20 [Train]:   4%|▍         | 3/68 [00:00<00:15,  4.07it/s, acc=0.9800, loss=0.0531]"
          ]
        },
        {
          "output_type": "stream",
          "name": "stdout",
          "text": [
            "  Batch 0/68: Loss: 0.0555, Acc: 0.9900\n"
          ]
        },
        {
          "output_type": "stream",
          "name": "stderr",
          "text": [
            "Epoch 14/20 [Train]:  16%|█▌        | 11/68 [00:01<00:07,  8.08it/s, acc=0.9800, loss=0.0335]"
          ]
        },
        {
          "output_type": "stream",
          "name": "stdout",
          "text": [
            "  Batch 10/68: Loss: 0.0501, Acc: 0.9800\n"
          ]
        },
        {
          "output_type": "stream",
          "name": "stderr",
          "text": [
            "Epoch 14/20 [Train]:  32%|███▏      | 22/68 [00:03<00:05,  7.97it/s, acc=0.9700, loss=0.0795]"
          ]
        },
        {
          "output_type": "stream",
          "name": "stdout",
          "text": [
            "  Batch 20/68: Loss: 0.0230, Acc: 0.9900\n"
          ]
        },
        {
          "output_type": "stream",
          "name": "stderr",
          "text": [
            "Epoch 14/20 [Train]:  46%|████▌     | 31/68 [00:04<00:04,  8.42it/s, acc=1.0000, loss=0.0072]"
          ]
        },
        {
          "output_type": "stream",
          "name": "stdout",
          "text": [
            "  Batch 30/68: Loss: 0.0376, Acc: 0.9900\n"
          ]
        },
        {
          "output_type": "stream",
          "name": "stderr",
          "text": [
            "Epoch 14/20 [Train]:  63%|██████▎   | 43/68 [00:05<00:03,  8.26it/s, acc=0.9700, loss=0.0465]"
          ]
        },
        {
          "output_type": "stream",
          "name": "stdout",
          "text": [
            "  Batch 40/68: Loss: 0.0390, Acc: 0.9800\n"
          ]
        },
        {
          "output_type": "stream",
          "name": "stderr",
          "text": [
            "Epoch 14/20 [Train]:  75%|███████▌  | 51/68 [00:06<00:01,  8.51it/s, acc=1.0000, loss=0.0170]"
          ]
        },
        {
          "output_type": "stream",
          "name": "stdout",
          "text": [
            "  Batch 50/68: Loss: 0.0676, Acc: 0.9600\n"
          ]
        },
        {
          "output_type": "stream",
          "name": "stderr",
          "text": [
            "Epoch 14/20 [Train]:  93%|█████████▎| 63/68 [00:08<00:00,  5.86it/s, acc=0.9900, loss=0.0472]"
          ]
        },
        {
          "output_type": "stream",
          "name": "stdout",
          "text": [
            "  Batch 60/68: Loss: 0.0506, Acc: 0.9900\n"
          ]
        },
        {
          "output_type": "stream",
          "name": "stderr",
          "text": [
            "Epoch 14/20 [Train]: 100%|██████████| 68/68 [00:09<00:00,  7.22it/s, acc=1.0000, loss=0.0201]\n"
          ]
        },
        {
          "output_type": "stream",
          "name": "stdout",
          "text": [
            "Train Loss: 0.0490 Acc: 0.9850\n"
          ]
        },
        {
          "output_type": "stream",
          "name": "stderr",
          "text": [
            "Epoch 14/20 [Val]: 100%|██████████| 16/16 [00:02<00:00,  5.70it/s, acc=0.9643, loss=0.2244]\n"
          ]
        },
        {
          "output_type": "stream",
          "name": "stdout",
          "text": [
            "Val Loss: 0.1617 Acc: 0.9691\n",
            "Epoch 15/20\n",
            "------------------------------\n"
          ]
        },
        {
          "output_type": "stream",
          "name": "stderr",
          "text": [
            "Epoch 15/20 [Train]:   1%|▏         | 1/68 [00:00<00:46,  1.45it/s, acc=0.9900, loss=0.0318]"
          ]
        },
        {
          "output_type": "stream",
          "name": "stdout",
          "text": [
            "  Batch 0/68: Loss: 0.0585, Acc: 0.9700\n"
          ]
        },
        {
          "output_type": "stream",
          "name": "stderr",
          "text": [
            "Epoch 15/20 [Train]:  19%|█▉        | 13/68 [00:02<00:06,  8.08it/s, acc=1.0000, loss=0.0147]"
          ]
        },
        {
          "output_type": "stream",
          "name": "stdout",
          "text": [
            "  Batch 10/68: Loss: 0.0452, Acc: 0.9900\n"
          ]
        },
        {
          "output_type": "stream",
          "name": "stderr",
          "text": [
            "Epoch 15/20 [Train]:  31%|███       | 21/68 [00:03<00:05,  8.39it/s, acc=0.9900, loss=0.0357]"
          ]
        },
        {
          "output_type": "stream",
          "name": "stdout",
          "text": [
            "  Batch 20/68: Loss: 0.0446, Acc: 0.9900\n"
          ]
        },
        {
          "output_type": "stream",
          "name": "stderr",
          "text": [
            "Epoch 15/20 [Train]:  49%|████▊     | 33/68 [00:04<00:03,  8.86it/s, acc=0.9900, loss=0.0241]"
          ]
        },
        {
          "output_type": "stream",
          "name": "stdout",
          "text": [
            "  Batch 30/68: Loss: 0.0085, Acc: 1.0000\n"
          ]
        },
        {
          "output_type": "stream",
          "name": "stderr",
          "text": [
            "Epoch 15/20 [Train]:  60%|██████    | 41/68 [00:05<00:03,  8.37it/s, acc=0.9900, loss=0.0204]"
          ]
        },
        {
          "output_type": "stream",
          "name": "stdout",
          "text": [
            "  Batch 40/68: Loss: 0.0037, Acc: 1.0000\n"
          ]
        },
        {
          "output_type": "stream",
          "name": "stderr",
          "text": [
            "Epoch 15/20 [Train]:  78%|███████▊  | 53/68 [00:06<00:01,  9.73it/s, acc=0.9900, loss=0.0237]"
          ]
        },
        {
          "output_type": "stream",
          "name": "stdout",
          "text": [
            "  Batch 50/68: Loss: 0.0100, Acc: 1.0000\n"
          ]
        },
        {
          "output_type": "stream",
          "name": "stderr",
          "text": [
            "Epoch 15/20 [Train]:  90%|████████▉ | 61/68 [00:07<00:00,  8.99it/s, acc=1.0000, loss=0.0328]"
          ]
        },
        {
          "output_type": "stream",
          "name": "stdout",
          "text": [
            "  Batch 60/68: Loss: 0.0459, Acc: 0.9700\n"
          ]
        },
        {
          "output_type": "stream",
          "name": "stderr",
          "text": [
            "Epoch 15/20 [Train]: 100%|██████████| 68/68 [00:08<00:00,  7.93it/s, acc=0.9600, loss=0.0609]\n"
          ]
        },
        {
          "output_type": "stream",
          "name": "stdout",
          "text": [
            "Train Loss: 0.0418 Acc: 0.9877\n"
          ]
        },
        {
          "output_type": "stream",
          "name": "stderr",
          "text": [
            "Epoch 15/20 [Val]: 100%|██████████| 16/16 [00:03<00:00,  4.91it/s, acc=0.9524, loss=0.2412]\n"
          ]
        },
        {
          "output_type": "stream",
          "name": "stdout",
          "text": [
            "Val Loss: 0.1761 Acc: 0.9621\n",
            "Epoch 16/20\n",
            "------------------------------\n"
          ]
        },
        {
          "output_type": "stream",
          "name": "stderr",
          "text": [
            "Epoch 16/20 [Train]:   4%|▍         | 3/68 [00:01<00:20,  3.13it/s, acc=0.9700, loss=0.0470]"
          ]
        },
        {
          "output_type": "stream",
          "name": "stdout",
          "text": [
            "  Batch 0/68: Loss: 0.0116, Acc: 1.0000\n"
          ]
        },
        {
          "output_type": "stream",
          "name": "stderr",
          "text": [
            "Epoch 16/20 [Train]:  16%|█▌        | 11/68 [00:02<00:08,  6.97it/s, acc=0.9800, loss=0.0654]"
          ]
        },
        {
          "output_type": "stream",
          "name": "stdout",
          "text": [
            "  Batch 10/68: Loss: 0.0084, Acc: 1.0000\n"
          ]
        },
        {
          "output_type": "stream",
          "name": "stderr",
          "text": [
            "Epoch 16/20 [Train]:  34%|███▍      | 23/68 [00:03<00:05,  8.68it/s, acc=0.9900, loss=0.0266]"
          ]
        },
        {
          "output_type": "stream",
          "name": "stdout",
          "text": [
            "  Batch 20/68: Loss: 0.0122, Acc: 1.0000\n"
          ]
        },
        {
          "output_type": "stream",
          "name": "stderr",
          "text": [
            "Epoch 16/20 [Train]:  46%|████▌     | 31/68 [00:04<00:04,  9.17it/s, acc=0.9900, loss=0.0306]"
          ]
        },
        {
          "output_type": "stream",
          "name": "stdout",
          "text": [
            "  Batch 30/68: Loss: 0.0075, Acc: 1.0000\n"
          ]
        },
        {
          "output_type": "stream",
          "name": "stderr",
          "text": [
            "Epoch 16/20 [Train]:  63%|██████▎   | 43/68 [00:06<00:02,  8.66it/s, acc=0.9800, loss=0.1059]"
          ]
        },
        {
          "output_type": "stream",
          "name": "stdout",
          "text": [
            "  Batch 40/68: Loss: 0.0314, Acc: 1.0000\n"
          ]
        },
        {
          "output_type": "stream",
          "name": "stderr",
          "text": [
            "Epoch 16/20 [Train]:  75%|███████▌  | 51/68 [00:07<00:02,  8.09it/s, acc=0.9800, loss=0.0358]"
          ]
        },
        {
          "output_type": "stream",
          "name": "stdout",
          "text": [
            "  Batch 50/68: Loss: 0.0066, Acc: 1.0000\n"
          ]
        },
        {
          "output_type": "stream",
          "name": "stderr",
          "text": [
            "Epoch 16/20 [Train]:  93%|█████████▎| 63/68 [00:08<00:00,  9.44it/s, acc=0.9900, loss=0.0252]"
          ]
        },
        {
          "output_type": "stream",
          "name": "stdout",
          "text": [
            "  Batch 60/68: Loss: 0.0250, Acc: 1.0000\n"
          ]
        },
        {
          "output_type": "stream",
          "name": "stderr",
          "text": [
            "Epoch 16/20 [Train]: 100%|██████████| 68/68 [00:09<00:00,  7.53it/s, acc=1.0000, loss=0.0129]\n"
          ]
        },
        {
          "output_type": "stream",
          "name": "stdout",
          "text": [
            "Train Loss: 0.0349 Acc: 0.9880\n"
          ]
        },
        {
          "output_type": "stream",
          "name": "stderr",
          "text": [
            "Epoch 16/20 [Val]: 100%|██████████| 16/16 [00:04<00:00,  3.88it/s, acc=0.9524, loss=0.2174]\n"
          ]
        },
        {
          "output_type": "stream",
          "name": "stdout",
          "text": [
            "Val Loss: 0.1627 Acc: 0.9615\n",
            "Epoch 17/20\n",
            "------------------------------\n"
          ]
        },
        {
          "output_type": "stream",
          "name": "stderr",
          "text": [
            "Epoch 17/20 [Train]:   3%|▎         | 2/68 [00:01<00:33,  1.95it/s, acc=0.9900, loss=0.0695]"
          ]
        },
        {
          "output_type": "stream",
          "name": "stdout",
          "text": [
            "  Batch 0/68: Loss: 0.0818, Acc: 0.9800\n"
          ]
        },
        {
          "output_type": "stream",
          "name": "stderr",
          "text": [
            "Epoch 17/20 [Train]:  16%|█▌        | 11/68 [00:02<00:08,  6.87it/s, acc=0.9900, loss=0.0354]"
          ]
        },
        {
          "output_type": "stream",
          "name": "stdout",
          "text": [
            "  Batch 10/68: Loss: 0.0638, Acc: 0.9700\n"
          ]
        },
        {
          "output_type": "stream",
          "name": "stderr",
          "text": [
            "Epoch 17/20 [Train]:  34%|███▍      | 23/68 [00:03<00:05,  8.45it/s, acc=0.9800, loss=0.1550]"
          ]
        },
        {
          "output_type": "stream",
          "name": "stdout",
          "text": [
            "  Batch 20/68: Loss: 0.0390, Acc: 0.9800\n"
          ]
        },
        {
          "output_type": "stream",
          "name": "stderr",
          "text": [
            "Epoch 17/20 [Train]:  46%|████▌     | 31/68 [00:05<00:04,  8.70it/s, acc=1.0000, loss=0.0155]"
          ]
        },
        {
          "output_type": "stream",
          "name": "stdout",
          "text": [
            "  Batch 30/68: Loss: 0.0581, Acc: 0.9900\n"
          ]
        },
        {
          "output_type": "stream",
          "name": "stderr",
          "text": [
            "Epoch 17/20 [Train]:  63%|██████▎   | 43/68 [00:06<00:02,  8.74it/s, acc=0.9800, loss=0.0567]"
          ]
        },
        {
          "output_type": "stream",
          "name": "stdout",
          "text": [
            "  Batch 40/68: Loss: 0.0149, Acc: 1.0000\n"
          ]
        },
        {
          "output_type": "stream",
          "name": "stderr",
          "text": [
            "Epoch 17/20 [Train]:  75%|███████▌  | 51/68 [00:07<00:01,  8.55it/s, acc=1.0000, loss=0.0127]"
          ]
        },
        {
          "output_type": "stream",
          "name": "stdout",
          "text": [
            "  Batch 50/68: Loss: 0.0254, Acc: 0.9800\n"
          ]
        },
        {
          "output_type": "stream",
          "name": "stderr",
          "text": [
            "Epoch 17/20 [Train]:  93%|█████████▎| 63/68 [00:08<00:00,  8.79it/s, acc=0.9800, loss=0.0383]"
          ]
        },
        {
          "output_type": "stream",
          "name": "stdout",
          "text": [
            "  Batch 60/68: Loss: 0.0075, Acc: 1.0000\n"
          ]
        },
        {
          "output_type": "stream",
          "name": "stderr",
          "text": [
            "Epoch 17/20 [Train]: 100%|██████████| 68/68 [00:09<00:00,  7.22it/s, acc=1.0000, loss=0.0043]\n"
          ]
        },
        {
          "output_type": "stream",
          "name": "stdout",
          "text": [
            "Train Loss: 0.0367 Acc: 0.9874\n"
          ]
        },
        {
          "output_type": "stream",
          "name": "stderr",
          "text": [
            "Epoch 17/20 [Val]: 100%|██████████| 16/16 [00:03<00:00,  4.45it/s, acc=0.9524, loss=0.2480]\n"
          ]
        },
        {
          "output_type": "stream",
          "name": "stdout",
          "text": [
            "Val Loss: 0.1771 Acc: 0.9665\n",
            "Epoch 18/20\n",
            "------------------------------\n"
          ]
        },
        {
          "output_type": "stream",
          "name": "stderr",
          "text": [
            "Epoch 18/20 [Train]:   3%|▎         | 2/68 [00:01<00:38,  1.72it/s, acc=0.9900, loss=0.0159]"
          ]
        },
        {
          "output_type": "stream",
          "name": "stdout",
          "text": [
            "  Batch 0/68: Loss: 0.0836, Acc: 0.9700\n"
          ]
        },
        {
          "output_type": "stream",
          "name": "stderr",
          "text": [
            "Epoch 18/20 [Train]:  16%|█▌        | 11/68 [00:03<00:10,  5.66it/s, acc=1.0000, loss=0.0136]"
          ]
        },
        {
          "output_type": "stream",
          "name": "stdout",
          "text": [
            "  Batch 10/68: Loss: 0.0271, Acc: 0.9900\n"
          ]
        },
        {
          "output_type": "stream",
          "name": "stderr",
          "text": [
            "Epoch 18/20 [Train]:  34%|███▍      | 23/68 [00:04<00:05,  7.86it/s, acc=1.0000, loss=0.0132]"
          ]
        },
        {
          "output_type": "stream",
          "name": "stdout",
          "text": [
            "  Batch 20/68: Loss: 0.0042, Acc: 1.0000\n"
          ]
        },
        {
          "output_type": "stream",
          "name": "stderr",
          "text": [
            "Epoch 18/20 [Train]:  46%|████▌     | 31/68 [00:05<00:04,  8.07it/s, acc=0.9900, loss=0.0391]"
          ]
        },
        {
          "output_type": "stream",
          "name": "stdout",
          "text": [
            "  Batch 30/68: Loss: 0.0089, Acc: 1.0000\n"
          ]
        },
        {
          "output_type": "stream",
          "name": "stderr",
          "text": [
            "Epoch 18/20 [Train]:  63%|██████▎   | 43/68 [00:07<00:02,  9.03it/s, acc=1.0000, loss=0.0140]"
          ]
        },
        {
          "output_type": "stream",
          "name": "stdout",
          "text": [
            "  Batch 40/68: Loss: 0.0306, Acc: 0.9900\n"
          ]
        },
        {
          "output_type": "stream",
          "name": "stderr",
          "text": [
            "Epoch 18/20 [Train]:  75%|███████▌  | 51/68 [00:08<00:01,  9.06it/s, acc=1.0000, loss=0.0039]"
          ]
        },
        {
          "output_type": "stream",
          "name": "stdout",
          "text": [
            "  Batch 50/68: Loss: 0.0364, Acc: 0.9900\n"
          ]
        },
        {
          "output_type": "stream",
          "name": "stderr",
          "text": [
            "Epoch 18/20 [Train]:  93%|█████████▎| 63/68 [00:09<00:00,  8.94it/s, acc=0.9800, loss=0.0305]"
          ]
        },
        {
          "output_type": "stream",
          "name": "stdout",
          "text": [
            "  Batch 60/68: Loss: 0.0929, Acc: 0.9800\n"
          ]
        },
        {
          "output_type": "stream",
          "name": "stderr",
          "text": [
            "Epoch 18/20 [Train]: 100%|██████████| 68/68 [00:09<00:00,  6.90it/s, acc=1.0000, loss=0.0150]\n"
          ]
        },
        {
          "output_type": "stream",
          "name": "stdout",
          "text": [
            "Train Loss: 0.0359 Acc: 0.9860\n"
          ]
        },
        {
          "output_type": "stream",
          "name": "stderr",
          "text": [
            "Epoch 18/20 [Val]: 100%|██████████| 16/16 [00:02<00:00,  7.61it/s, acc=0.9524, loss=0.2206]\n"
          ]
        },
        {
          "output_type": "stream",
          "name": "stdout",
          "text": [
            "Val Loss: 0.1676 Acc: 0.9615\n",
            "Epoch 19/20\n",
            "------------------------------\n"
          ]
        },
        {
          "output_type": "stream",
          "name": "stderr",
          "text": [
            "Epoch 19/20 [Train]:   4%|▍         | 3/68 [00:00<00:16,  4.03it/s, acc=0.9800, loss=0.0517]"
          ]
        },
        {
          "output_type": "stream",
          "name": "stdout",
          "text": [
            "  Batch 0/68: Loss: 0.0435, Acc: 0.9700\n"
          ]
        },
        {
          "output_type": "stream",
          "name": "stderr",
          "text": [
            "Epoch 19/20 [Train]:  16%|█▌        | 11/68 [00:02<00:11,  4.89it/s, acc=0.9900, loss=0.0250]"
          ]
        },
        {
          "output_type": "stream",
          "name": "stdout",
          "text": [
            "  Batch 10/68: Loss: 0.0336, Acc: 0.9800\n"
          ]
        },
        {
          "output_type": "stream",
          "name": "stderr",
          "text": [
            "Epoch 19/20 [Train]:  34%|███▍      | 23/68 [00:04<00:07,  5.73it/s, acc=0.9700, loss=0.0608]"
          ]
        },
        {
          "output_type": "stream",
          "name": "stdout",
          "text": [
            "  Batch 20/68: Loss: 0.0048, Acc: 1.0000\n"
          ]
        },
        {
          "output_type": "stream",
          "name": "stderr",
          "text": [
            "Epoch 19/20 [Train]:  46%|████▌     | 31/68 [00:06<00:04,  7.64it/s, acc=0.9900, loss=0.0367]"
          ]
        },
        {
          "output_type": "stream",
          "name": "stdout",
          "text": [
            "  Batch 30/68: Loss: 0.0321, Acc: 0.9800\n"
          ]
        },
        {
          "output_type": "stream",
          "name": "stderr",
          "text": [
            "Epoch 19/20 [Train]:  63%|██████▎   | 43/68 [00:07<00:03,  8.13it/s, acc=0.9900, loss=0.0223]"
          ]
        },
        {
          "output_type": "stream",
          "name": "stdout",
          "text": [
            "  Batch 40/68: Loss: 0.0184, Acc: 0.9900\n"
          ]
        },
        {
          "output_type": "stream",
          "name": "stderr",
          "text": [
            "Epoch 19/20 [Train]:  75%|███████▌  | 51/68 [00:08<00:01,  9.34it/s, acc=1.0000, loss=0.0072]"
          ]
        },
        {
          "output_type": "stream",
          "name": "stdout",
          "text": [
            "  Batch 50/68: Loss: 0.0795, Acc: 0.9600\n"
          ]
        },
        {
          "output_type": "stream",
          "name": "stderr",
          "text": [
            "Epoch 19/20 [Train]:  93%|█████████▎| 63/68 [00:09<00:00,  9.43it/s, acc=0.9800, loss=0.0447]"
          ]
        },
        {
          "output_type": "stream",
          "name": "stdout",
          "text": [
            "  Batch 60/68: Loss: 0.0449, Acc: 0.9800\n"
          ]
        },
        {
          "output_type": "stream",
          "name": "stderr",
          "text": [
            "Epoch 19/20 [Train]: 100%|██████████| 68/68 [00:10<00:00,  6.61it/s, acc=0.9600, loss=0.0630]\n"
          ]
        },
        {
          "output_type": "stream",
          "name": "stdout",
          "text": [
            "Train Loss: 0.0324 Acc: 0.9860\n"
          ]
        },
        {
          "output_type": "stream",
          "name": "stderr",
          "text": [
            "Epoch 19/20 [Val]: 100%|██████████| 16/16 [00:02<00:00,  7.69it/s, acc=0.9524, loss=0.2075]\n"
          ]
        },
        {
          "output_type": "stream",
          "name": "stdout",
          "text": [
            "Val Loss: 0.1547 Acc: 0.9659\n",
            "Epoch 20/20\n",
            "------------------------------\n"
          ]
        },
        {
          "output_type": "stream",
          "name": "stderr",
          "text": [
            "Epoch 20/20 [Train]:   3%|▎         | 2/68 [00:00<00:21,  3.08it/s, acc=0.9900, loss=0.0485]"
          ]
        },
        {
          "output_type": "stream",
          "name": "stdout",
          "text": [
            "  Batch 0/68: Loss: 0.0166, Acc: 0.9900\n"
          ]
        },
        {
          "output_type": "stream",
          "name": "stderr",
          "text": [
            "Epoch 20/20 [Train]:  19%|█▉        | 13/68 [00:01<00:06,  8.76it/s, acc=1.0000, loss=0.0051]"
          ]
        },
        {
          "output_type": "stream",
          "name": "stdout",
          "text": [
            "  Batch 10/68: Loss: 0.0111, Acc: 1.0000\n"
          ]
        },
        {
          "output_type": "stream",
          "name": "stderr",
          "text": [
            "Epoch 20/20 [Train]:  31%|███       | 21/68 [00:03<00:07,  6.09it/s, acc=1.0000, loss=0.0066]"
          ]
        },
        {
          "output_type": "stream",
          "name": "stdout",
          "text": [
            "  Batch 20/68: Loss: 0.0066, Acc: 1.0000\n"
          ]
        },
        {
          "output_type": "stream",
          "name": "stderr",
          "text": [
            "Epoch 20/20 [Train]:  49%|████▊     | 33/68 [00:05<00:05,  6.36it/s, acc=1.0000, loss=0.0076]"
          ]
        },
        {
          "output_type": "stream",
          "name": "stdout",
          "text": [
            "  Batch 30/68: Loss: 0.0031, Acc: 1.0000\n"
          ]
        },
        {
          "output_type": "stream",
          "name": "stderr",
          "text": [
            "Epoch 20/20 [Train]:  62%|██████▏   | 42/68 [00:07<00:03,  6.90it/s, acc=1.0000, loss=0.0167]"
          ]
        },
        {
          "output_type": "stream",
          "name": "stdout",
          "text": [
            "  Batch 40/68: Loss: 0.0035, Acc: 1.0000\n"
          ]
        },
        {
          "output_type": "stream",
          "name": "stderr",
          "text": [
            "Epoch 20/20 [Train]:  76%|███████▋  | 52/68 [00:08<00:02,  7.84it/s, acc=0.9800, loss=0.0286]"
          ]
        },
        {
          "output_type": "stream",
          "name": "stdout",
          "text": [
            "  Batch 50/68: Loss: 0.0392, Acc: 0.9800\n"
          ]
        },
        {
          "output_type": "stream",
          "name": "stderr",
          "text": [
            "Epoch 20/20 [Train]:  88%|████████▊ | 60/68 [00:09<00:00,  8.65it/s, acc=1.0000, loss=0.0144]"
          ]
        },
        {
          "output_type": "stream",
          "name": "stdout",
          "text": [
            "  Batch 60/68: Loss: 0.0144, Acc: 1.0000\n"
          ]
        },
        {
          "output_type": "stream",
          "name": "stderr",
          "text": [
            "Epoch 20/20 [Train]: 100%|██████████| 68/68 [00:10<00:00,  6.61it/s, acc=1.0000, loss=0.0096]\n"
          ]
        },
        {
          "output_type": "stream",
          "name": "stdout",
          "text": [
            "Train Loss: 0.0274 Acc: 0.9891\n"
          ]
        },
        {
          "output_type": "stream",
          "name": "stderr",
          "text": [
            "Epoch 20/20 [Val]: 100%|██████████| 16/16 [00:02<00:00,  7.85it/s, acc=0.9524, loss=0.2213]\n",
            "<ipython-input-17-d6c2c033772c>:197: FutureWarning: You are using `torch.load` with `weights_only=False` (the current default value), which uses the default pickle module implicitly. It is possible to construct malicious pickle data which will execute arbitrary code during unpickling (See https://github.com/pytorch/pytorch/blob/main/SECURITY.md#untrusted-models for more details). In a future release, the default value for `weights_only` will be flipped to `True`. This limits the functions that could be executed during unpickling. Arbitrary objects will no longer be allowed to be loaded via this mode unless they are explicitly allowlisted by the user via `torch.serialization.add_safe_globals`. We recommend you start setting `weights_only=True` for any use case where you don't have full control of the loaded file. Please open an issue on GitHub for any issues related to this experimental feature.\n",
            "  model.load_state_dict(torch.load('best_traffic_sign_model.pth'))\n"
          ]
        },
        {
          "output_type": "stream",
          "name": "stdout",
          "text": [
            "Val Loss: 0.1645 Acc: 0.9646\n",
            "Best val Acc: 0.9722\n",
            "Training completed in 252.67 seconds (4.21 minutes)\n",
            "==================================================\n"
          ]
        },
        {
          "output_type": "display_data",
          "data": {
            "text/plain": [
              "<Figure size 1200x500 with 2 Axes>"
            ],
            "image/png": "[encoded data removed]"
          },
          "metadata": {}
        },
        {
          "output_type": "stream",
          "name": "stdout",
          "text": [
            "Evaluating model on test data...\n"
          ]
        },
        {
          "output_type": "stream",
          "name": "stderr",
          "text": [
            "Testing: 100%|██████████| 13/13 [00:01<00:00,  8.09it/s, acc=1.0000]"
          ]
        },
        {
          "output_type": "stream",
          "name": "stdout",
          "text": [
            "Test Accuracy: 0.9286\n",
            "\n",
            "Per-class accuracy:\n",
            "------------------------------\n",
            "  Class    |  Accuracy  |  Samples  \n",
            "------------------------------\n",
            "    1      | 1.0000 |     90    \n",
            "    2      | 0.9595 |    148    \n",
            "    3      | 0.6735 |     98    \n",
            "    4      | 0.9450 |    109    \n",
            "    5      | 0.9362 |     94    \n",
            "    6      | 0.9752 |    121    \n",
            "    7      | 0.9669 |    121    \n",
            "    8      | 0.9070 |     43    \n",
            "    9      | 0.8571 |     91    \n",
            "    10     | 0.8000 |     45    \n",
            "    11     | 0.9727 |    110    \n",
            "    12     | 1.0000 |    135    \n",
            "Training completed!\n"
          ]
        },
        {
          "output_type": "stream",
          "name": "stderr",
          "text": [
            "\n"
          ]
        }
      ]
    },
    {
      "cell_type": "markdown",
      "source": [
        "## **Backup to Google Drive**"
      ],
      "metadata": {
        "id": "lUZcP8FeuW2n"
      }
    },
    {
      "cell_type": "code",
      "source": [
        "!cp best_traffic_sign_model.pth /content/drive/MyDrive/ECE-653/best_traffic_sign_model.pth\n",
        "!cp training_curves.png /content/drive/MyDrive/ECE-653/training_curves.png"
      ],
      "metadata": {
        "id": "eNTZnAk3uZ9F"
      },
      "execution_count": null,
      "outputs": []
    },
    {
      "cell_type": "markdown",
      "source": [
        "## **(Inference) Test the model**"
      ],
      "metadata": {
        "id": "4rxTyQBBQ7AI"
      }
    },
    {
      "cell_type": "code",
      "source": [
        "def load_model(model_path, num_classes=13):\n",
        "    model = SimpleTrafficSignNet(num_classes=num_classes)\n",
        "    model.load_state_dict(torch.load(model_path, map_location=device))\n",
        "    model.eval()\n",
        "    return model\n",
        "\n",
        "model = load_model('best_traffic_sign_model.pth')"
      ],
      "metadata": {
        "id": "7_3pZbBEWz4q",
        "colab": {
          "base_uri": "https://localhost:8080/"
        },
        "outputId": "86602555-d98a-477e-f974-ed5b5ec6d41a"
      },
      "execution_count": null,
      "outputs": [
        {
          "output_type": "stream",
          "name": "stderr",
          "text": [
            "<ipython-input-21-d51038d1d749>:3: FutureWarning: You are using `torch.load` with `weights_only=False` (the current default value), which uses the default pickle module implicitly. It is possible to construct malicious pickle data which will execute arbitrary code during unpickling (See https://github.com/pytorch/pytorch/blob/main/SECURITY.md#untrusted-models for more details). In a future release, the default value for `weights_only` will be flipped to `True`. This limits the functions that could be executed during unpickling. Arbitrary objects will no longer be allowed to be loaded via this mode unless they are explicitly allowlisted by the user via `torch.serialization.add_safe_globals`. We recommend you start setting `weights_only=True` for any use case where you don't have full control of the loaded file. Please open an issue on GitHub for any issues related to this experimental feature.\n",
            "  model.load_state_dict(torch.load(model_path, map_location=device))\n"
          ]
        }
      ]
    },
    {
      "cell_type": "code",
      "source": [
        "def infer(model, cv_image):\n",
        "    # Set model to evaluation mode\n",
        "    cv2_image_rgb = cv2.cvtColor(cv_image, cv2.COLOR_BGR2RGB)\n",
        "    image = Image.fromarray(cv2_image_rgb)\n",
        "    transform = transforms.ToTensor()\n",
        "\n",
        "    image_tensor = transform(image)\n",
        "    image_tensor = image_tensor.permute(1, 2, 0)\n",
        "\n",
        "    image_tensor = image_tensor.to(device)\n",
        "    model = model.to(device)\n",
        "\n",
        "    return predict(model, image_tensor)\n",
        "\n",
        "# This predict function will be also used by adversarial attacks!\n",
        "def predict(model, x_in):\n",
        "    device = next(model.parameters()).device\n",
        "    model.eval()\n",
        "\n",
        "    with torch.no_grad():\n",
        "        # Get current image dimensions\n",
        "        h, w, c = x_in.shape\n",
        "\n",
        "        # Convert numpy to tensor and add batch dimension\n",
        "        x_tensor = torch.tensor(x_in, dtype=torch.float32).permute(2, 0, 1).unsqueeze(0).to(device)\n",
        "\n",
        "        if torch.any(x_tensor > 1.0):\n",
        "            x_tensor = x_tensor / 255.0\n",
        "\n",
        "        # Resize to model input size if needed\n",
        "        if h != IMAGE_SIZE or w != IMAGE_SIZE:\n",
        "            x_tensor = F.interpolate(x_tensor, size=(IMAGE_SIZE, IMAGE_SIZE), mode='bilinear', align_corners=False)\n",
        "\n",
        "        outputs = model(x_tensor)\n",
        "\n",
        "        probabilities = torch.nn.functional.softmax(outputs, dim=1)\n",
        "        prediction = outputs.argmax(dim=1).cpu().numpy()[0]\n",
        "\n",
        "\n",
        "    return prediction, probabilities.squeeze().cpu().numpy()\n",
        "\n",
        "def predict_class_only(model, x_in):\n",
        "    prediction, _ = predict(model, x_in)\n",
        "    return prediction\n",
        "\n",
        "# Function to display prediction results\n",
        "def display_prediction(predicted_class, probabilities):\n",
        "    \"\"\"\n",
        "    Display the prediction results\n",
        "\n",
        "    Args:\n",
        "        predicted_class: Index of the predicted class\n",
        "        probabilities: Probabilities for each class\n",
        "    \"\"\"\n",
        "    print(f\"Predicted class: {class_names[predicted_class]}\")\n",
        "    print(f\"Confidence: {probabilities[predicted_class]*100:.2f}%\")\n",
        "\n",
        "    # Display top 3 predictions\n",
        "    top3_indices = np.argsort(probabilities)[-3:][::-1]\n",
        "\n",
        "    plt.figure(figsize=(10, 5))\n",
        "    plt.barh([class_names[i] for i in top3_indices],\n",
        "             [probabilities[i] for i in top3_indices])\n",
        "    plt.xlabel('Probability')\n",
        "    plt.title('Top 3 Predictions')\n",
        "    plt.tight_layout()\n",
        "    plt.show()\n",
        "\n",
        "def crop_with_custom_model_cv2(cv_image):\n",
        "  # Will be implemented later!\n",
        "  pass\n",
        "\n",
        "def perform_inference(model, cv_image, should_crop=False, display_pred=False):\n",
        "    if should_crop:\n",
        "      cv_image = crop_with_custom_model_cv2(cv_image)\n",
        "      if cv_image is None:\n",
        "          print(\"Nothing detected.\")\n",
        "          return None, None\n",
        "\n",
        "    # Perform inference\n",
        "    predicted_class, probabilities = infer(model, cv_image)\n",
        "\n",
        "    if display_pred:\n",
        "      display_prediction(predicted_class, probabilities)\n",
        "\n",
        "    return predicted_class, probabilities\n",
        "\n",
        "\n",
        "img = cv2.imread(\"sample.png\")\n",
        "cv2_imshow(img)\n",
        "predicted_class, probabilities = perform_inference(model, img, should_crop=False, display_pred=True)\n",
        "\n",
        "if predicted_class is not None and probabilities is not None:\n",
        "  print(f'prediction : {class_names[predicted_class]}', ',' , f'conf: {probabilities[predicted_class]*100} %')"
      ],
      "metadata": {
        "id": "ppiZol1IQ6qJ",
        "colab": {
          "base_uri": "https://localhost:8080/",
          "height": 960
        },
        "outputId": "d9cb6358-f3f7-4fee-c402-e89b3dc8fe22"
      },
      "execution_count": null,
      "outputs": [
        {
          "output_type": "display_data",
          "data": {
            "text/plain": [
              "<PIL.Image.Image image mode=RGB size=324x341>"
            ],
            "image/png": "[encoded data removed]",
            "image/jpeg": "[encoded data removed]"
          },
          "metadata": {}
        },
        {
          "output_type": "stream",
          "name": "stderr",
          "text": [
            "<ipython-input-22-77419ace436e>:25: UserWarning: To copy construct from a tensor, it is recommended to use sourceTensor.clone().detach() or sourceTensor.clone().detach().requires_grad_(True), rather than torch.tensor(sourceTensor).\n",
            "  x_tensor = torch.tensor(x_in, dtype=torch.float32).permute(2, 0, 1).unsqueeze(0).to(device)\n"
          ]
        },
        {
          "output_type": "stream",
          "name": "stdout",
          "text": [
            "Predicted class: Speed Limit 20\n",
            "Confidence: 75.35%\n"
          ]
        },
        {
          "output_type": "display_data",
          "data": {
            "text/plain": [
              "<Figure size 1000x500 with 1 Axes>"
            ],
            "image/png": "[encoded data removed]"
          },
          "metadata": {}
        },
        {
          "output_type": "stream",
          "name": "stdout",
          "text": [
            "prediction : Speed Limit 20 , conf: 75.35454630851746 %\n"
          ]
        }
      ]
    }
  ]
}